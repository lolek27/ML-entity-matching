{
  "cells": [
    {
      "cell_type": "markdown",
      "metadata": {
        "id": "view-in-github",
        "colab_type": "text"
      },
      "source": [
        "<a href=\"https://colab.research.google.com/github/lolek27/ML-entity_matching/blob/main/abt_buy_entity_matching.ipynb\" target=\"_parent\"><img src=\"https://colab.research.google.com/assets/colab-badge.svg\" alt=\"Open In Colab\"/></a>"
      ]
    },
    {
      "cell_type": "markdown",
      "metadata": {
        "id": "eauI65Qvy7XB"
      },
      "source": [
        "#1. Read the data for Abt and Buy"
      ]
    },
    {
      "cell_type": "code",
      "execution_count": 4,
      "metadata": {
        "colab": {
          "base_uri": "https://localhost:8080/"
        },
        "id": "r-P2HuDhPWJO",
        "outputId": "409fcfa8-5aa7-4b8d-ce2f-c35b83c831e0"
      },
      "outputs": [
        {
          "output_type": "execute_result",
          "data": {
            "text/plain": [
              "(5010, 1439, 710, 1081, 1092)"
            ]
          },
          "metadata": {},
          "execution_count": 4
        }
      ],
      "source": [
        "import pandas as pd\n",
        "import numpy as np\n",
        "\n",
        "abt_buy_train_df = pd.read_csv(\"/content/drive/MyDrive/ML/data/abt_buy/gs_train.csv\")\n",
        "abt_buy_train_recs = abt_buy_train_df.to_dict('records')\n",
        "\n",
        "abt_buy_val_df = pd.read_csv(\"/content/drive/MyDrive/ML/data/abt_buy/gs_val.csv\")\n",
        "abt_buy_val_recs = abt_buy_val_df.to_dict('records')\n",
        "\n",
        "abt_buy_test_df = pd.read_csv(\"/content/drive/MyDrive/ML/data/abt_buy/gs_test.csv\")\n",
        "abt_buy_test_recs = abt_buy_test_df.to_dict('records')\n",
        "\n",
        "abt_df = pd.read_csv(\"/content/drive/MyDrive/ML/data/abt_buy/1_abt.csv\",  encoding = \"ISO-8859-1\")\n",
        "abt_recs = abt_df.to_dict('records')\n",
        "\n",
        "buy_df = pd.read_csv(\"/content/drive/MyDrive/ML/data/abt_buy/2_buy.csv\",  encoding = \"ISO-8859-1\")\n",
        "buy_recs = buy_df.to_dict('records')\n",
        "\n",
        "abt_id_to_rec_map = {a['subject_id']: a for a in abt_recs}\n",
        "buy_id_to_rec_map = {b['subject_id']: b for b in buy_recs}\n",
        "\n",
        "len(abt_buy_train_recs), len(abt_buy_val_recs), len(abt_buy_test_recs), len(abt_recs), len(buy_recs)"
      ]
    },
    {
      "cell_type": "code",
      "source": [
        "abt_buy_train_df.head()"
      ],
      "metadata": {
        "colab": {
          "base_uri": "https://localhost:8080/",
          "height": 206
        },
        "id": "xDIyoSadAxzU",
        "outputId": "893e0adc-bbb5-4396-af0c-f986c37d9a56"
      },
      "execution_count": 3,
      "outputs": [
        {
          "output_type": "execute_result",
          "data": {
            "text/plain": [
              "   source_id  target_id  matching\n",
              "0      33161  207390654     False\n",
              "1      36258  208085180     False\n",
              "2      17417   90125786     False\n",
              "3      34309  208504304     False\n",
              "4       8060   90138537     False"
            ],
            "text/html": [
              "\n",
              "  <div id=\"df-cda8fbe7-efb6-4aaf-9254-d41e2903e12f\">\n",
              "    <div class=\"colab-df-container\">\n",
              "      <div>\n",
              "<style scoped>\n",
              "    .dataframe tbody tr th:only-of-type {\n",
              "        vertical-align: middle;\n",
              "    }\n",
              "\n",
              "    .dataframe tbody tr th {\n",
              "        vertical-align: top;\n",
              "    }\n",
              "\n",
              "    .dataframe thead th {\n",
              "        text-align: right;\n",
              "    }\n",
              "</style>\n",
              "<table border=\"1\" class=\"dataframe\">\n",
              "  <thead>\n",
              "    <tr style=\"text-align: right;\">\n",
              "      <th></th>\n",
              "      <th>source_id</th>\n",
              "      <th>target_id</th>\n",
              "      <th>matching</th>\n",
              "    </tr>\n",
              "  </thead>\n",
              "  <tbody>\n",
              "    <tr>\n",
              "      <th>0</th>\n",
              "      <td>33161</td>\n",
              "      <td>207390654</td>\n",
              "      <td>False</td>\n",
              "    </tr>\n",
              "    <tr>\n",
              "      <th>1</th>\n",
              "      <td>36258</td>\n",
              "      <td>208085180</td>\n",
              "      <td>False</td>\n",
              "    </tr>\n",
              "    <tr>\n",
              "      <th>2</th>\n",
              "      <td>17417</td>\n",
              "      <td>90125786</td>\n",
              "      <td>False</td>\n",
              "    </tr>\n",
              "    <tr>\n",
              "      <th>3</th>\n",
              "      <td>34309</td>\n",
              "      <td>208504304</td>\n",
              "      <td>False</td>\n",
              "    </tr>\n",
              "    <tr>\n",
              "      <th>4</th>\n",
              "      <td>8060</td>\n",
              "      <td>90138537</td>\n",
              "      <td>False</td>\n",
              "    </tr>\n",
              "  </tbody>\n",
              "</table>\n",
              "</div>\n",
              "      <button class=\"colab-df-convert\" onclick=\"convertToInteractive('df-cda8fbe7-efb6-4aaf-9254-d41e2903e12f')\"\n",
              "              title=\"Convert this dataframe to an interactive table.\"\n",
              "              style=\"display:none;\">\n",
              "        \n",
              "  <svg xmlns=\"http://www.w3.org/2000/svg\" height=\"24px\"viewBox=\"0 0 24 24\"\n",
              "       width=\"24px\">\n",
              "    <path d=\"M0 0h24v24H0V0z\" fill=\"none\"/>\n",
              "    <path d=\"M18.56 5.44l.94 2.06.94-2.06 2.06-.94-2.06-.94-.94-2.06-.94 2.06-2.06.94zm-11 1L8.5 8.5l.94-2.06 2.06-.94-2.06-.94L8.5 2.5l-.94 2.06-2.06.94zm10 10l.94 2.06.94-2.06 2.06-.94-2.06-.94-.94-2.06-.94 2.06-2.06.94z\"/><path d=\"M17.41 7.96l-1.37-1.37c-.4-.4-.92-.59-1.43-.59-.52 0-1.04.2-1.43.59L10.3 9.45l-7.72 7.72c-.78.78-.78 2.05 0 2.83L4 21.41c.39.39.9.59 1.41.59.51 0 1.02-.2 1.41-.59l7.78-7.78 2.81-2.81c.8-.78.8-2.07 0-2.86zM5.41 20L4 18.59l7.72-7.72 1.47 1.35L5.41 20z\"/>\n",
              "  </svg>\n",
              "      </button>\n",
              "      \n",
              "  <style>\n",
              "    .colab-df-container {\n",
              "      display:flex;\n",
              "      flex-wrap:wrap;\n",
              "      gap: 12px;\n",
              "    }\n",
              "\n",
              "    .colab-df-convert {\n",
              "      background-color: #E8F0FE;\n",
              "      border: none;\n",
              "      border-radius: 50%;\n",
              "      cursor: pointer;\n",
              "      display: none;\n",
              "      fill: #1967D2;\n",
              "      height: 32px;\n",
              "      padding: 0 0 0 0;\n",
              "      width: 32px;\n",
              "    }\n",
              "\n",
              "    .colab-df-convert:hover {\n",
              "      background-color: #E2EBFA;\n",
              "      box-shadow: 0px 1px 2px rgba(60, 64, 67, 0.3), 0px 1px 3px 1px rgba(60, 64, 67, 0.15);\n",
              "      fill: #174EA6;\n",
              "    }\n",
              "\n",
              "    [theme=dark] .colab-df-convert {\n",
              "      background-color: #3B4455;\n",
              "      fill: #D2E3FC;\n",
              "    }\n",
              "\n",
              "    [theme=dark] .colab-df-convert:hover {\n",
              "      background-color: #434B5C;\n",
              "      box-shadow: 0px 1px 3px 1px rgba(0, 0, 0, 0.15);\n",
              "      filter: drop-shadow(0px 1px 2px rgba(0, 0, 0, 0.3));\n",
              "      fill: #FFFFFF;\n",
              "    }\n",
              "  </style>\n",
              "\n",
              "      <script>\n",
              "        const buttonEl =\n",
              "          document.querySelector('#df-cda8fbe7-efb6-4aaf-9254-d41e2903e12f button.colab-df-convert');\n",
              "        buttonEl.style.display =\n",
              "          google.colab.kernel.accessAllowed ? 'block' : 'none';\n",
              "\n",
              "        async function convertToInteractive(key) {\n",
              "          const element = document.querySelector('#df-cda8fbe7-efb6-4aaf-9254-d41e2903e12f');\n",
              "          const dataTable =\n",
              "            await google.colab.kernel.invokeFunction('convertToInteractive',\n",
              "                                                     [key], {});\n",
              "          if (!dataTable) return;\n",
              "\n",
              "          const docLinkHtml = 'Like what you see? Visit the ' +\n",
              "            '<a target=\"_blank\" href=https://colab.research.google.com/notebooks/data_table.ipynb>data table notebook</a>'\n",
              "            + ' to learn more about interactive tables.';\n",
              "          element.innerHTML = '';\n",
              "          dataTable['output_type'] = 'display_data';\n",
              "          await google.colab.output.renderOutput(dataTable, element);\n",
              "          const docLink = document.createElement('div');\n",
              "          docLink.innerHTML = docLinkHtml;\n",
              "          element.appendChild(docLink);\n",
              "        }\n",
              "      </script>\n",
              "    </div>\n",
              "  </div>\n",
              "  "
            ]
          },
          "metadata": {},
          "execution_count": 3
        }
      ]
    },
    {
      "cell_type": "code",
      "source": [
        "abt_df.head()"
      ],
      "metadata": {
        "colab": {
          "base_uri": "https://localhost:8080/",
          "height": 206
        },
        "id": "ZkldyishAx8a",
        "outputId": "ec4a2eb6-b433-44aa-c595-6866fa836e0a"
      },
      "execution_count": 4,
      "outputs": [
        {
          "output_type": "execute_result",
          "data": {
            "text/plain": [
              "   subject_id                                               name  \\\n",
              "0         552                          Sony Turntable - PSLX350H   \n",
              "1         580  Bose Acoustimass 5 Series III Speaker System -...   \n",
              "2        4696                             Sony Switcher - SBV40S   \n",
              "3        5644                   Sony 5 Disc CD Player - CDPCE375   \n",
              "4        6284  Bose 27028 161 Bookshelf Pair Speakers In Whit...   \n",
              "\n",
              "                                         description  price  \n",
              "0  Sony Turntable - PSLX350H/ Belt Drive System/ ...    NaN  \n",
              "1  Bose Acoustimass 5 Series III Speaker System -...  399.0  \n",
              "2  Sony Switcher - SBV40S/ Eliminates Disconnecti...   49.0  \n",
              "3  Sony 5 Disc CD Player- CDPCE375/ 5 Disc Change...    NaN  \n",
              "4  Bose 161 Bookshelf Speakers In White - 161WH/ ...  158.0  "
            ],
            "text/html": [
              "\n",
              "  <div id=\"df-08569ea8-1887-45dc-9622-31aaa4cb69e8\">\n",
              "    <div class=\"colab-df-container\">\n",
              "      <div>\n",
              "<style scoped>\n",
              "    .dataframe tbody tr th:only-of-type {\n",
              "        vertical-align: middle;\n",
              "    }\n",
              "\n",
              "    .dataframe tbody tr th {\n",
              "        vertical-align: top;\n",
              "    }\n",
              "\n",
              "    .dataframe thead th {\n",
              "        text-align: right;\n",
              "    }\n",
              "</style>\n",
              "<table border=\"1\" class=\"dataframe\">\n",
              "  <thead>\n",
              "    <tr style=\"text-align: right;\">\n",
              "      <th></th>\n",
              "      <th>subject_id</th>\n",
              "      <th>name</th>\n",
              "      <th>description</th>\n",
              "      <th>price</th>\n",
              "    </tr>\n",
              "  </thead>\n",
              "  <tbody>\n",
              "    <tr>\n",
              "      <th>0</th>\n",
              "      <td>552</td>\n",
              "      <td>Sony Turntable - PSLX350H</td>\n",
              "      <td>Sony Turntable - PSLX350H/ Belt Drive System/ ...</td>\n",
              "      <td>NaN</td>\n",
              "    </tr>\n",
              "    <tr>\n",
              "      <th>1</th>\n",
              "      <td>580</td>\n",
              "      <td>Bose Acoustimass 5 Series III Speaker System -...</td>\n",
              "      <td>Bose Acoustimass 5 Series III Speaker System -...</td>\n",
              "      <td>399.0</td>\n",
              "    </tr>\n",
              "    <tr>\n",
              "      <th>2</th>\n",
              "      <td>4696</td>\n",
              "      <td>Sony Switcher - SBV40S</td>\n",
              "      <td>Sony Switcher - SBV40S/ Eliminates Disconnecti...</td>\n",
              "      <td>49.0</td>\n",
              "    </tr>\n",
              "    <tr>\n",
              "      <th>3</th>\n",
              "      <td>5644</td>\n",
              "      <td>Sony 5 Disc CD Player - CDPCE375</td>\n",
              "      <td>Sony 5 Disc CD Player- CDPCE375/ 5 Disc Change...</td>\n",
              "      <td>NaN</td>\n",
              "    </tr>\n",
              "    <tr>\n",
              "      <th>4</th>\n",
              "      <td>6284</td>\n",
              "      <td>Bose 27028 161 Bookshelf Pair Speakers In Whit...</td>\n",
              "      <td>Bose 161 Bookshelf Speakers In White - 161WH/ ...</td>\n",
              "      <td>158.0</td>\n",
              "    </tr>\n",
              "  </tbody>\n",
              "</table>\n",
              "</div>\n",
              "      <button class=\"colab-df-convert\" onclick=\"convertToInteractive('df-08569ea8-1887-45dc-9622-31aaa4cb69e8')\"\n",
              "              title=\"Convert this dataframe to an interactive table.\"\n",
              "              style=\"display:none;\">\n",
              "        \n",
              "  <svg xmlns=\"http://www.w3.org/2000/svg\" height=\"24px\"viewBox=\"0 0 24 24\"\n",
              "       width=\"24px\">\n",
              "    <path d=\"M0 0h24v24H0V0z\" fill=\"none\"/>\n",
              "    <path d=\"M18.56 5.44l.94 2.06.94-2.06 2.06-.94-2.06-.94-.94-2.06-.94 2.06-2.06.94zm-11 1L8.5 8.5l.94-2.06 2.06-.94-2.06-.94L8.5 2.5l-.94 2.06-2.06.94zm10 10l.94 2.06.94-2.06 2.06-.94-2.06-.94-.94-2.06-.94 2.06-2.06.94z\"/><path d=\"M17.41 7.96l-1.37-1.37c-.4-.4-.92-.59-1.43-.59-.52 0-1.04.2-1.43.59L10.3 9.45l-7.72 7.72c-.78.78-.78 2.05 0 2.83L4 21.41c.39.39.9.59 1.41.59.51 0 1.02-.2 1.41-.59l7.78-7.78 2.81-2.81c.8-.78.8-2.07 0-2.86zM5.41 20L4 18.59l7.72-7.72 1.47 1.35L5.41 20z\"/>\n",
              "  </svg>\n",
              "      </button>\n",
              "      \n",
              "  <style>\n",
              "    .colab-df-container {\n",
              "      display:flex;\n",
              "      flex-wrap:wrap;\n",
              "      gap: 12px;\n",
              "    }\n",
              "\n",
              "    .colab-df-convert {\n",
              "      background-color: #E8F0FE;\n",
              "      border: none;\n",
              "      border-radius: 50%;\n",
              "      cursor: pointer;\n",
              "      display: none;\n",
              "      fill: #1967D2;\n",
              "      height: 32px;\n",
              "      padding: 0 0 0 0;\n",
              "      width: 32px;\n",
              "    }\n",
              "\n",
              "    .colab-df-convert:hover {\n",
              "      background-color: #E2EBFA;\n",
              "      box-shadow: 0px 1px 2px rgba(60, 64, 67, 0.3), 0px 1px 3px 1px rgba(60, 64, 67, 0.15);\n",
              "      fill: #174EA6;\n",
              "    }\n",
              "\n",
              "    [theme=dark] .colab-df-convert {\n",
              "      background-color: #3B4455;\n",
              "      fill: #D2E3FC;\n",
              "    }\n",
              "\n",
              "    [theme=dark] .colab-df-convert:hover {\n",
              "      background-color: #434B5C;\n",
              "      box-shadow: 0px 1px 3px 1px rgba(0, 0, 0, 0.15);\n",
              "      filter: drop-shadow(0px 1px 2px rgba(0, 0, 0, 0.3));\n",
              "      fill: #FFFFFF;\n",
              "    }\n",
              "  </style>\n",
              "\n",
              "      <script>\n",
              "        const buttonEl =\n",
              "          document.querySelector('#df-08569ea8-1887-45dc-9622-31aaa4cb69e8 button.colab-df-convert');\n",
              "        buttonEl.style.display =\n",
              "          google.colab.kernel.accessAllowed ? 'block' : 'none';\n",
              "\n",
              "        async function convertToInteractive(key) {\n",
              "          const element = document.querySelector('#df-08569ea8-1887-45dc-9622-31aaa4cb69e8');\n",
              "          const dataTable =\n",
              "            await google.colab.kernel.invokeFunction('convertToInteractive',\n",
              "                                                     [key], {});\n",
              "          if (!dataTable) return;\n",
              "\n",
              "          const docLinkHtml = 'Like what you see? Visit the ' +\n",
              "            '<a target=\"_blank\" href=https://colab.research.google.com/notebooks/data_table.ipynb>data table notebook</a>'\n",
              "            + ' to learn more about interactive tables.';\n",
              "          element.innerHTML = '';\n",
              "          dataTable['output_type'] = 'display_data';\n",
              "          await google.colab.output.renderOutput(dataTable, element);\n",
              "          const docLink = document.createElement('div');\n",
              "          docLink.innerHTML = docLinkHtml;\n",
              "          element.appendChild(docLink);\n",
              "        }\n",
              "      </script>\n",
              "    </div>\n",
              "  </div>\n",
              "  "
            ]
          },
          "metadata": {},
          "execution_count": 4
        }
      ]
    },
    {
      "cell_type": "code",
      "source": [
        "buy_df.head()"
      ],
      "metadata": {
        "colab": {
          "base_uri": "https://localhost:8080/",
          "height": 206
        },
        "id": "O-4OUxVoA4po",
        "outputId": "1ada8499-8d32-4bf5-d0dc-a50b1e892931"
      },
      "execution_count": 6,
      "outputs": [
        {
          "output_type": "execute_result",
          "data": {
            "text/plain": [
              "   subject_id                                               name  \\\n",
              "0    10011646  Linksys EtherFast EZXS88W Ethernet Switch - EZ...   \n",
              "1    10140760          Linksys EtherFast EZXS55W Ethernet Switch   \n",
              "2    10221960    Netgear ProSafe FS105 Ethernet Switch - FS105NA   \n",
              "3    10246269  Belkin Pro Series High Integrity VGA/SVGA Moni...   \n",
              "4    10315184             Netgear ProSafe JFS516 Ethernet Switch   \n",
              "\n",
              "                                         description manufacturer  price  \n",
              "0  Linksys EtherFast 8-Port 10/100 Switch (New/Wo...      LINKSYS    NaN  \n",
              "1                              5 x 10/100Base-TX LAN      LINKSYS    NaN  \n",
              "2  NETGEAR FS105 Prosafe 5 Port 10/100 Desktop Sw...      Netgear    NaN  \n",
              "3               1 x HD-15 - 1 x HD-15 - 10ft - Beige       Belkin    NaN  \n",
              "4  Netgear ProSafe 16 Port 10/100 Rackmount Switc...      Netgear    NaN  "
            ],
            "text/html": [
              "\n",
              "  <div id=\"df-046d9e8c-f89f-4bd0-ad2d-67b3969b6f15\">\n",
              "    <div class=\"colab-df-container\">\n",
              "      <div>\n",
              "<style scoped>\n",
              "    .dataframe tbody tr th:only-of-type {\n",
              "        vertical-align: middle;\n",
              "    }\n",
              "\n",
              "    .dataframe tbody tr th {\n",
              "        vertical-align: top;\n",
              "    }\n",
              "\n",
              "    .dataframe thead th {\n",
              "        text-align: right;\n",
              "    }\n",
              "</style>\n",
              "<table border=\"1\" class=\"dataframe\">\n",
              "  <thead>\n",
              "    <tr style=\"text-align: right;\">\n",
              "      <th></th>\n",
              "      <th>subject_id</th>\n",
              "      <th>name</th>\n",
              "      <th>description</th>\n",
              "      <th>manufacturer</th>\n",
              "      <th>price</th>\n",
              "    </tr>\n",
              "  </thead>\n",
              "  <tbody>\n",
              "    <tr>\n",
              "      <th>0</th>\n",
              "      <td>10011646</td>\n",
              "      <td>Linksys EtherFast EZXS88W Ethernet Switch - EZ...</td>\n",
              "      <td>Linksys EtherFast 8-Port 10/100 Switch (New/Wo...</td>\n",
              "      <td>LINKSYS</td>\n",
              "      <td>NaN</td>\n",
              "    </tr>\n",
              "    <tr>\n",
              "      <th>1</th>\n",
              "      <td>10140760</td>\n",
              "      <td>Linksys EtherFast EZXS55W Ethernet Switch</td>\n",
              "      <td>5 x 10/100Base-TX LAN</td>\n",
              "      <td>LINKSYS</td>\n",
              "      <td>NaN</td>\n",
              "    </tr>\n",
              "    <tr>\n",
              "      <th>2</th>\n",
              "      <td>10221960</td>\n",
              "      <td>Netgear ProSafe FS105 Ethernet Switch - FS105NA</td>\n",
              "      <td>NETGEAR FS105 Prosafe 5 Port 10/100 Desktop Sw...</td>\n",
              "      <td>Netgear</td>\n",
              "      <td>NaN</td>\n",
              "    </tr>\n",
              "    <tr>\n",
              "      <th>3</th>\n",
              "      <td>10246269</td>\n",
              "      <td>Belkin Pro Series High Integrity VGA/SVGA Moni...</td>\n",
              "      <td>1 x HD-15 - 1 x HD-15 - 10ft - Beige</td>\n",
              "      <td>Belkin</td>\n",
              "      <td>NaN</td>\n",
              "    </tr>\n",
              "    <tr>\n",
              "      <th>4</th>\n",
              "      <td>10315184</td>\n",
              "      <td>Netgear ProSafe JFS516 Ethernet Switch</td>\n",
              "      <td>Netgear ProSafe 16 Port 10/100 Rackmount Switc...</td>\n",
              "      <td>Netgear</td>\n",
              "      <td>NaN</td>\n",
              "    </tr>\n",
              "  </tbody>\n",
              "</table>\n",
              "</div>\n",
              "      <button class=\"colab-df-convert\" onclick=\"convertToInteractive('df-046d9e8c-f89f-4bd0-ad2d-67b3969b6f15')\"\n",
              "              title=\"Convert this dataframe to an interactive table.\"\n",
              "              style=\"display:none;\">\n",
              "        \n",
              "  <svg xmlns=\"http://www.w3.org/2000/svg\" height=\"24px\"viewBox=\"0 0 24 24\"\n",
              "       width=\"24px\">\n",
              "    <path d=\"M0 0h24v24H0V0z\" fill=\"none\"/>\n",
              "    <path d=\"M18.56 5.44l.94 2.06.94-2.06 2.06-.94-2.06-.94-.94-2.06-.94 2.06-2.06.94zm-11 1L8.5 8.5l.94-2.06 2.06-.94-2.06-.94L8.5 2.5l-.94 2.06-2.06.94zm10 10l.94 2.06.94-2.06 2.06-.94-2.06-.94-.94-2.06-.94 2.06-2.06.94z\"/><path d=\"M17.41 7.96l-1.37-1.37c-.4-.4-.92-.59-1.43-.59-.52 0-1.04.2-1.43.59L10.3 9.45l-7.72 7.72c-.78.78-.78 2.05 0 2.83L4 21.41c.39.39.9.59 1.41.59.51 0 1.02-.2 1.41-.59l7.78-7.78 2.81-2.81c.8-.78.8-2.07 0-2.86zM5.41 20L4 18.59l7.72-7.72 1.47 1.35L5.41 20z\"/>\n",
              "  </svg>\n",
              "      </button>\n",
              "      \n",
              "  <style>\n",
              "    .colab-df-container {\n",
              "      display:flex;\n",
              "      flex-wrap:wrap;\n",
              "      gap: 12px;\n",
              "    }\n",
              "\n",
              "    .colab-df-convert {\n",
              "      background-color: #E8F0FE;\n",
              "      border: none;\n",
              "      border-radius: 50%;\n",
              "      cursor: pointer;\n",
              "      display: none;\n",
              "      fill: #1967D2;\n",
              "      height: 32px;\n",
              "      padding: 0 0 0 0;\n",
              "      width: 32px;\n",
              "    }\n",
              "\n",
              "    .colab-df-convert:hover {\n",
              "      background-color: #E2EBFA;\n",
              "      box-shadow: 0px 1px 2px rgba(60, 64, 67, 0.3), 0px 1px 3px 1px rgba(60, 64, 67, 0.15);\n",
              "      fill: #174EA6;\n",
              "    }\n",
              "\n",
              "    [theme=dark] .colab-df-convert {\n",
              "      background-color: #3B4455;\n",
              "      fill: #D2E3FC;\n",
              "    }\n",
              "\n",
              "    [theme=dark] .colab-df-convert:hover {\n",
              "      background-color: #434B5C;\n",
              "      box-shadow: 0px 1px 3px 1px rgba(0, 0, 0, 0.15);\n",
              "      filter: drop-shadow(0px 1px 2px rgba(0, 0, 0, 0.3));\n",
              "      fill: #FFFFFF;\n",
              "    }\n",
              "  </style>\n",
              "\n",
              "      <script>\n",
              "        const buttonEl =\n",
              "          document.querySelector('#df-046d9e8c-f89f-4bd0-ad2d-67b3969b6f15 button.colab-df-convert');\n",
              "        buttonEl.style.display =\n",
              "          google.colab.kernel.accessAllowed ? 'block' : 'none';\n",
              "\n",
              "        async function convertToInteractive(key) {\n",
              "          const element = document.querySelector('#df-046d9e8c-f89f-4bd0-ad2d-67b3969b6f15');\n",
              "          const dataTable =\n",
              "            await google.colab.kernel.invokeFunction('convertToInteractive',\n",
              "                                                     [key], {});\n",
              "          if (!dataTable) return;\n",
              "\n",
              "          const docLinkHtml = 'Like what you see? Visit the ' +\n",
              "            '<a target=\"_blank\" href=https://colab.research.google.com/notebooks/data_table.ipynb>data table notebook</a>'\n",
              "            + ' to learn more about interactive tables.';\n",
              "          element.innerHTML = '';\n",
              "          dataTable['output_type'] = 'display_data';\n",
              "          await google.colab.output.renderOutput(dataTable, element);\n",
              "          const docLink = document.createElement('div');\n",
              "          docLink.innerHTML = docLinkHtml;\n",
              "          element.appendChild(docLink);\n",
              "        }\n",
              "      </script>\n",
              "    </div>\n",
              "  </div>\n",
              "  "
            ]
          },
          "metadata": {},
          "execution_count": 6
        }
      ]
    },
    {
      "cell_type": "markdown",
      "metadata": {
        "id": "4Hp-xiREM4pl"
      },
      "source": [
        "##1.1 Data exploration"
      ]
    },
    {
      "cell_type": "markdown",
      "metadata": {
        "id": "Ze2kGlMnNcrE"
      },
      "source": [
        "Positive to all-samples ratio for train, val and test:"
      ]
    },
    {
      "cell_type": "code",
      "execution_count": null,
      "metadata": {
        "colab": {
          "base_uri": "https://localhost:8080/"
        },
        "id": "25z3JceoNRbl",
        "outputId": "05be7365-a3d0-4f04-e443-2813d4c0f353"
      },
      "outputs": [
        {
          "data": {
            "text/plain": [
              "(764, 0.15249500998003993, 220, 0.15288394718554552, 109, 0.15352112676056337)"
            ]
          },
          "execution_count": 2,
          "metadata": {},
          "output_type": "execute_result"
        }
      ],
      "source": [
        "train_pos = len([a for a in abt_buy_train_recs if a['matching']])\n",
        "val_pos = len([a for a in abt_buy_val_recs if a['matching']])\n",
        "test_pos = len([a for a in abt_buy_test_recs if a['matching']])\n",
        "train_pos, train_pos/len(abt_buy_train_recs), val_pos, val_pos/len(abt_buy_val_recs), test_pos, test_pos/len(abt_buy_test_recs)"
      ]
    },
    {
      "cell_type": "markdown",
      "source": [
        "Positive matches constitute about 15% of all data points"
      ],
      "metadata": {
        "id": "fGAt1ntUBCQ2"
      }
    },
    {
      "cell_type": "code",
      "execution_count": null,
      "metadata": {
        "colab": {
          "base_uri": "https://localhost:8080/"
        },
        "id": "UVxEoA5c39ks",
        "outputId": "745ff1f5-f67e-4241-dbe3-13925febe405"
      },
      "outputs": [
        {
          "data": {
            "text/plain": [
              "(0.6133209990749307, 0.4597069597069597)"
            ]
          },
          "execution_count": 6,
          "metadata": {},
          "output_type": "execute_result"
        }
      ],
      "source": [
        "len(abt_df[abt_df['price'].isnull()]) / len(abt_df), len(buy_df[buy_df['price'].isnull()]) / len(buy_df) "
      ]
    },
    {
      "cell_type": "markdown",
      "source": [
        "61% Abt records and 45% Buy recs lack price info"
      ],
      "metadata": {
        "id": "uQJjtyXGAZX9"
      }
    },
    {
      "cell_type": "markdown",
      "source": [
        "#2. Data Augmentation (used in 3.3)"
      ],
      "metadata": {
        "id": "-aII5H4u1Mqn"
      }
    },
    {
      "cell_type": "code",
      "source": [
        "!pip install nlpaug transformers"
      ],
      "metadata": {
        "id": "8TVEO6ynq7_V"
      },
      "execution_count": null,
      "outputs": []
    },
    {
      "cell_type": "code",
      "source": [
        "import nlpaug.augmenter.word as naw\n",
        "import nlpaug.augmenter.char as nac\n",
        "import random\n",
        "\n",
        "aug_arr = []\n",
        "aug_arr.append(naw.ContextualWordEmbsAug(aug_p = 0.1, action='substitute', top_k = 5, aug_min=0, aug_max = 3, stopwords=['name', 'product', 'description', 'price']))\n",
        "aug_arr.append(naw.RandomWordAug(aug_p = 0.1, action='crop', aug_min=1, aug_max = 3))\n",
        "aug_arr.append(naw.RandomWordAug(aug_p = 0.1, action='swap', aug_min=1, aug_max = 5, stopwords=['name', 'product', 'description', 'price']))\n",
        "aug_arr.append(naw.RandomWordAug(aug_p = 0.1, action='delete', aug_min=1, aug_max = 4,  stopwords=['name', 'product', 'description', 'price']))\n",
        "aug_arr.append( nac.RandomCharAug(aug_char_p=0.1, action='swap', aug_char_min =1, aug_char_max=5, include_numeric=False, stopwords=['name', 'product', 'description', 'price']))\n",
        "aug_arr.append(nac.RandomCharAug(aug_char_p=0.1, action='delete', aug_char_min =1, aug_char_max=4, stopwords=['name', 'product', 'description', 'price']))\n",
        "aug_arr.append(nac.RandomCharAug(aug_char_p=0.1, action='insert', aug_char_min =1, aug_char_max=4, include_numeric=False, stopwords=['name', 'product', 'description', 'price']))\n",
        "aug_arr.append(nac.RandomCharAug(aug_char_p=0.1, action='substitute', aug_char_min =1, aug_char_max=4, include_numeric=False, stopwords=['name', 'product', 'description', 'price']))\n",
        "\n",
        "pairs_pos_train = [(get_description(abt_id_to_rec_map[ab[\"source_id\"]]), get_description(buy_id_to_rec_map[ab[\"target_id\"]])) for ab in abt_buy_train_recs + abt_buy_val_recs if ab['matching']]\n",
        "pairs_neg_train = [(get_description(abt_id_to_rec_map[ab[\"source_id\"]]), get_description(buy_id_to_rec_map[ab[\"target_id\"]])) for ab in abt_buy_train_recs + abt_buy_val_recs if not ab['matching']]\n",
        "\n",
        "np.random.seed(42)\n"
      ],
      "metadata": {
        "id": "Cj5aCun-1Q7c"
      },
      "execution_count": 13,
      "outputs": []
    },
    {
      "cell_type": "code",
      "source": [
        "sent = 'War is old men talking and young men dying'\n",
        "aug_arr[0].augment(sent)[0], aug_arr[2].augment(sent)[0]"
      ],
      "metadata": {
        "colab": {
          "base_uri": "https://localhost:8080/"
        },
        "id": "c30xvOFMRzf3",
        "outputId": "9f4ccdd0-dbf0-457d-fb2e-fe59607a8f26"
      },
      "execution_count": 14,
      "outputs": [
        {
          "output_type": "execute_result",
          "data": {
            "text/plain": [
              "('there is old men talking and young men dying',\n",
              " 'War old is men talking and young men dying')"
            ]
          },
          "metadata": {},
          "execution_count": 14
        }
      ]
    },
    {
      "cell_type": "code",
      "source": [
        "def augment(d, col, aug_arr):\n",
        "   # choose if this sample is going to be augmented - let's augment with prob 50%\n",
        "   if np.random.rand() >= 0.5:\n",
        "    ind = int(np.round(np.random.rand() * (len(aug_arr) - 1)))\n",
        "    aug_sample = aug_arr[ind].augment(d[col])[0]\n",
        "    return aug_sample\n",
        "   return False\n",
        "\n",
        "def augment_dataset(data):\n",
        "  augmented_pos_train_data = []\n",
        "\n",
        "  for d in data:\n",
        "    d0 = False\n",
        "    d1 = False\n",
        "\n",
        "    augmented_pos_train_data.append(d)\n",
        "    \n",
        "    d0 = augment(d, 0, aug_arr)\n",
        "    d1 = augment(d, 1, aug_arr)\n",
        "    if not d0 and not d1:\n",
        "      continue\n",
        "\n",
        "    if d0 and d1:\n",
        "      augmented_pos_train_data.append((d0, d1))\n",
        "    else:\n",
        "      if d0:\n",
        "        d1 = d[1]\n",
        "      else:\n",
        "        d0 = d[0]\n",
        "  \n",
        "      augmented_pos_train_data.append((d0, d1))\n",
        "\n",
        "  return augmented_pos_train_data\n",
        "\n",
        "data_pos_aug = augment_dataset(pairs_pos_train)\n",
        "data_neg_aug = augment_dataset(pairs_neg_train)\n",
        "\n",
        "len(pairs_pos_train), len(data_pos_aug), len(pairs_neg_train), len(data_neg_aug)"
      ],
      "metadata": {
        "colab": {
          "base_uri": "https://localhost:8080/"
        },
        "id": "-Esy7pvZxR03",
        "outputId": "5173565e-d8ff-425d-b110-12a962306fae"
      },
      "execution_count": null,
      "outputs": [
        {
          "output_type": "execute_result",
          "data": {
            "text/plain": [
              "(984, 1865, 5465, 10439)"
            ]
          },
          "metadata": {},
          "execution_count": 16
        }
      ]
    },
    {
      "cell_type": "code",
      "source": [
        "data_pos_aug[:6]"
      ],
      "metadata": {
        "colab": {
          "base_uri": "https://localhost:8080/"
        },
        "id": "PrsxTYWt9mjz",
        "outputId": "256fab58-49b7-4afb-d5d3-3985cf53fcad"
      },
      "execution_count": null,
      "outputs": [
        {
          "output_type": "execute_result",
          "data": {
            "text/plain": [
              "[('The name of the product is Samsung S2 White 1GB Flash MP3 Player - YPS2ZW. Description: Samsung S2 White 1GB Flash MP3 Player - YPS2ZW/ Super Compact Pebble Shape Design/ Supports MP3, WMA And Ogg/ 1 GB Internal Flash Memory/ Multi-Color LED Light Effects/ Embedded Easy-To-Use Playback Controls/ DNSe 2.0 Enabled/ USB Connection/ Up To 13 Hours Of Playback/ White Finish. The price is unknown.',\n",
              "  'The name of the product is Samsung YP-S2ZW 1GB Flash MP3 Player - YP-S2ZW/XAA. Description: 1GB Flash Memory - White. The price is 29.67.'),\n",
              " ('The name of the product is Samsung S2 White 1GB Flash MP3 Player - YPS2ZW. Description: Samsung S2 WhTte 1GB Flash MP3 Player - YPSjZW / Tuper Compac+ Pebble Shape Design / SuppoJts MP3, WMA And Ogg / 1 GB Internal Flash MeTory / Milti - Color LED Light EffActs / Embedded Easy - To - Use Playback Controls / DNSe 2. 0 Enabled / USB Connectio& / Up To 13 Hours Of Playback / White Finish. The price is unknown.',\n",
              "  'The name of the product is Samsnug YP - 2sZW 1GB Flahs MP3 Palyer - YP - 2sZW / XAA. Decsriptoin: 1GB Lfash Memroy - Hwite. The price is 29. 67.'),\n",
              " ('The name of the product is Sony Black Cyber-Shot W Series Digital Camera Carrying Case - LCSCSL. Description: Sony LCS-CSL Black Cyber-Shot W And S Series Digital Camera Carrying Case - LCSCSL/ Designed Exclusively For Your Cyber-Shot W And S Series Digital Camera/ Form-Fitting Design/ Leather Material/ Black Finish. The price is unknown.',\n",
              "  'The name of the product is Sony LCS-CSL Cyber-shot Camera Case. Description: Top Loading - Leather - Black. The price is unknown.'),\n",
              " ('The name of the product is LaCie 500GB USB 2.0 External Hard Drive - 301302U. Description: LaCie 500GB USB 2.0 External Hard Drive - 301302U/ Up to 480Mbits/s (60MB/s) Interface Transfer Rate/ Smart Fanless Cooling System For Quiet Operation/ Blue LED For Ambient Underside Glow/ 8MB Cache/ Compatible With Windows And Mac/ Black Finish. The price is unknown.',\n",
              "  'The name of the product is LaCie USB 2.0 External Hard Drive - 301302U. Description: LaCie 500GB USB 2.0 7200RPM Desktop External Hard Drive - Design by Neil Poulton. The price is 86.95.'),\n",
              " ('The name of the product is LaCie 500GB USB 2.0 External Hard Drive - 301302U. Description: LaCie 500GB USB 2.0 External Hard Drive - 301302U/ Up to 480Mbits/s (60MB/s) Interface Transfer Rate/ Smart Fanless Cooling System For Quiet Operation/ Blue LED For Ambient Underside Glow/ 8MB Cache/ Compatible With Windows And Mac/ Black Finish. The price is unknown.',\n",
              "  'The name of the product is LaCei USB 2. 0 Xeternal Hard Drive - 301320U. Edsrciption: AlCie 500GB USB 2. 0 2700RPM Desktop Xeternal Ahrd Drive - Design by Enil Poultno. The price is 86. 95.'),\n",
              " (\"The name of the product is Toshiba 22' LCD HDTV With Built In DVD Player In Black - 22LV505. Description: Toshiba 22' LCD HDTV With Built In DVD Player In Black - 22LV505/  Built-In Slot Loading DVD Player/ Built-In ATSC/NTSC/QAM Digital Tuning/ Official DivX® Certified/ PC Input/ Space Saving Design/ Bottom Mount Stereo Speakers/ Black Finish. The price is unknown.\",\n",
              "  \"The name of the product is Toshiba 22LV505 - 22' Widescreen LCD HDTV w/ Built-in DVD Player - 1000:1 Contrast Ratio - 5ms Response Time - Black. Description: nan. The price is unknown.\")]"
            ]
          },
          "metadata": {},
          "execution_count": 17
        }
      ]
    },
    {
      "cell_type": "code",
      "source": [
        "description_pos = data_pos_aug\n",
        "description_neg = data_neg_aug"
      ],
      "metadata": {
        "id": "MfgMHh-hcqin"
      },
      "execution_count": 6,
      "outputs": []
    },
    {
      "cell_type": "markdown",
      "metadata": {
        "id": "1fDBPkA69OL5"
      },
      "source": [
        "#3. Apply Sentence-Transformers embeddings + ScaNN Search"
      ]
    },
    {
      "cell_type": "code",
      "source": [
        "def get_description(rec):\n",
        "    price = 'unknown' if np.isnan(rec['price']) else rec['price']\n",
        "    return f\"The name of the product is {rec['name']}. Description: {rec['description']}. The price is {price}.\""
      ],
      "metadata": {
        "id": "nbH3jOkWV-Cn"
      },
      "execution_count": null,
      "outputs": []
    },
    {
      "cell_type": "code",
      "execution_count": null,
      "metadata": {
        "id": "5kp9Sw5E9YXY"
      },
      "outputs": [],
      "source": [
        "!pip install sentence_transformers scann"
      ]
    },
    {
      "cell_type": "code",
      "source": [
        "import Searcher from search\n",
        "\n",
        "config = def_config = {\n",
        "    'model_name': 'sentence-transformers/all-mpnet-base-v2',\n",
        "    'mappings': abt_buy_test_recs,\n",
        "    'db_recs': abt_recs,\n",
        "    'candidates_len': 10,\n",
        "    'get_description': get_description\n",
        "}\n",
        "searcher = Searcher(config)"
      ],
      "metadata": {
        "id": "KXcSawnbQWFF"
      },
      "execution_count": null,
      "outputs": []
    },
    {
      "cell_type": "code",
      "source": [
        "query_test_recs = [ buy_id_to_rec_map[a['target_id']] for a in abt_buy_test_recs]\n",
        "searcher.encode_all(query_test_recs)\n",
        "searcher.search()\n"
      ],
      "metadata": {
        "id": "Z_cMHuEnDPgQ"
      },
      "execution_count": 9,
      "outputs": []
    },
    {
      "cell_type": "code",
      "source": [
        "searcher.get_description(abt_recs[0]), searcher.get_description(buy_recs[0])"
      ],
      "metadata": {
        "colab": {
          "base_uri": "https://localhost:8080/"
        },
        "id": "LlBjZSqSC3Zx",
        "outputId": "bc50b8f2-c3fc-4246-d449-599597de118b"
      },
      "execution_count": 19,
      "outputs": [
        {
          "output_type": "execute_result",
          "data": {
            "text/plain": [
              "('The name of the product is Sony Turntable - PSLX350H. Description: Sony Turntable - PSLX350H/ Belt Drive System/ 33-1/3 and 45 RPM Speeds/ Servo Speed Control/ Supplied Moving Magnet Phono Cartridge/ Bonded Diamond Stylus/ Static Balance Tonearm/ Pitch Control. The price is unknown.',\n",
              " 'The name of the product is Linksys EtherFast EZXS88W Ethernet Switch - EZXS88W. Description: Linksys EtherFast 8-Port 10/100 Switch (New/Workgroup). The price is unknown.')"
            ]
          },
          "metadata": {},
          "execution_count": 19
        }
      ]
    },
    {
      "cell_type": "code",
      "source": [
        "searcher.search()\n",
        "len(searcher.db_embeddings), len(searcher.query_embeddings)"
      ],
      "metadata": {
        "colab": {
          "base_uri": "https://localhost:8080/"
        },
        "id": "9vuh6ip7E4bm",
        "outputId": "b84cc2ee-07a5-4b15-b484-8bcabe40ac23"
      },
      "execution_count": 8,
      "outputs": [
        {
          "output_type": "execute_result",
          "data": {
            "text/plain": [
              "(1081, 710)"
            ]
          },
          "metadata": {},
          "execution_count": 8
        }
      ]
    },
    {
      "cell_type": "markdown",
      "source": [
        "For pre-trained embeddings recall@1 is less than 68% and F1 score for positive class is about 72.9%"
      ],
      "metadata": {
        "id": "x1sju8tCGC4w"
      }
    },
    {
      "cell_type": "code",
      "source": [
        "predictions = searcher.get_predictions_for_top_ks()\n",
        "metrics_base = searcher.get_metrics(predictions)\n",
        "metrics_base"
      ],
      "metadata": {
        "colab": {
          "base_uri": "https://localhost:8080/"
        },
        "id": "4bJvSwl1F9Ux",
        "outputId": "8eb12c11-64d5-462f-f31f-691e8ec043f0"
      },
      "execution_count": 10,
      "outputs": [
        {
          "output_type": "execute_result",
          "data": {
            "text/plain": [
              "[{'False': {'precision': 0.9431818181818182,\n",
              "   'recall': 0.9667221297836939,\n",
              "   'f1-score': 0.9548069022185702,\n",
              "   'support': 601},\n",
              "  'True': {'precision': 0.7872340425531915,\n",
              "   'recall': 0.6788990825688074,\n",
              "   'f1-score': 0.729064039408867,\n",
              "   'support': 109},\n",
              "  'accuracy': 0.9225352112676056,\n",
              "  'macro avg': {'precision': 0.8652079303675049,\n",
              "   'recall': 0.8228106061762506,\n",
              "   'f1-score': 0.8419354708137186,\n",
              "   'support': 710},\n",
              "  'weighted avg': {'precision': 0.9192405399515079,\n",
              "   'recall': 0.9225352112676056,\n",
              "   'f1-score': 0.9201506035618693,\n",
              "   'support': 710}},\n",
              " {'False': {'precision': 0.9644760213143873,\n",
              "   'recall': 0.9034941763727121,\n",
              "   'f1-score': 0.9329896907216495,\n",
              "   'support': 601},\n",
              "  'True': {'precision': 0.6054421768707483,\n",
              "   'recall': 0.8165137614678899,\n",
              "   'f1-score': 0.6953125,\n",
              "   'support': 109},\n",
              "  'accuracy': 0.8901408450704226,\n",
              "  'macro avg': {'precision': 0.7849590990925678,\n",
              "   'recall': 0.860003968920301,\n",
              "   'f1-score': 0.8141510953608248,\n",
              "   'support': 710},\n",
              "  'weighted avg': {'precision': 0.909356740970223,\n",
              "   'recall': 0.8901408450704226,\n",
              "   'f1-score': 0.8965012205967765,\n",
              "   'support': 710}},\n",
              " {'False': {'precision': 0.9679245283018868,\n",
              "   'recall': 0.8535773710482529,\n",
              "   'f1-score': 0.907161803713528,\n",
              "   'support': 601},\n",
              "  'True': {'precision': 0.5111111111111111,\n",
              "   'recall': 0.8440366972477065,\n",
              "   'f1-score': 0.6366782006920415,\n",
              "   'support': 109},\n",
              "  'accuracy': 0.852112676056338,\n",
              "  'macro avg': {'precision': 0.7395178197064989,\n",
              "   'recall': 0.8488070341479796,\n",
              "   'f1-score': 0.7719200022027848,\n",
              "   'support': 710},\n",
              "  'weighted avg': {'precision': 0.8977940177754156,\n",
              "   'recall': 0.852112676056338,\n",
              "   'f1-score': 0.8656368562074124,\n",
              "   'support': 710}},\n",
              " {'False': {'precision': 0.9744094488188977,\n",
              "   'recall': 0.8236272878535774,\n",
              "   'f1-score': 0.8926961226330027,\n",
              "   'support': 601},\n",
              "  'True': {'precision': 0.4752475247524752,\n",
              "   'recall': 0.8807339449541285,\n",
              "   'f1-score': 0.6173633440514469,\n",
              "   'support': 109},\n",
              "  'accuracy': 0.8323943661971831,\n",
              "  'macro avg': {'precision': 0.7248284867856865,\n",
              "   'recall': 0.852180616403853,\n",
              "   'f1-score': 0.7550297333422248,\n",
              "   'support': 710},\n",
              "  'weighted avg': {'precision': 0.8977775478002498,\n",
              "   'recall': 0.8323943661971831,\n",
              "   'f1-score': 0.8504267242310454,\n",
              "   'support': 710}},\n",
              " {'False': {'precision': 0.979253112033195,\n",
              "   'recall': 0.7853577371048253,\n",
              "   'f1-score': 0.8716528162511542,\n",
              "   'support': 601},\n",
              "  'True': {'precision': 0.4342105263157895,\n",
              "   'recall': 0.908256880733945,\n",
              "   'f1-score': 0.5875370919881305,\n",
              "   'support': 109},\n",
              "  'accuracy': 0.8042253521126761,\n",
              "  'macro avg': {'precision': 0.7067318191744922,\n",
              "   'recall': 0.846807308919385,\n",
              "   'f1-score': 0.7295949541196424,\n",
              "   'support': 710},\n",
              "  'weighted avg': {'precision': 0.8955775601413679,\n",
              "   'recall': 0.8042253521126761,\n",
              "   'f1-score': 0.8280350501319012,\n",
              "   'support': 710}},\n",
              " {'False': {'precision': 0.9806034482758621,\n",
              "   'recall': 0.757071547420965,\n",
              "   'f1-score': 0.8544600938967136,\n",
              "   'support': 601},\n",
              "  'True': {'precision': 0.4065040650406504,\n",
              "   'recall': 0.9174311926605505,\n",
              "   'f1-score': 0.5633802816901409,\n",
              "   'support': 109},\n",
              "  'accuracy': 0.7816901408450704,\n",
              "  'macro avg': {'precision': 0.6935537566582562,\n",
              "   'recall': 0.8372513700407578,\n",
              "   'f1-score': 0.7089201877934272,\n",
              "   'support': 710},\n",
              "  'weighted avg': {'precision': 0.8924670640890479,\n",
              "   'recall': 0.7816901408450704,\n",
              "   'f1-score': 0.8097731931495075,\n",
              "   'support': 710}},\n",
              " {'False': {'precision': 0.9865470852017937,\n",
              "   'recall': 0.7321131447587355,\n",
              "   'f1-score': 0.8404966571155683,\n",
              "   'support': 601},\n",
              "  'True': {'precision': 0.39015151515151514,\n",
              "   'recall': 0.944954128440367,\n",
              "   'f1-score': 0.5522788203753352,\n",
              "   'support': 109},\n",
              "  'accuracy': 0.7647887323943662,\n",
              "  'macro avg': {'precision': 0.6883493001766544,\n",
              "   'recall': 0.8385336365995513,\n",
              "   'f1-score': 0.6963877387454518,\n",
              "   'support': 710},\n",
              "  'weighted avg': {'precision': 0.8949877652926663,\n",
              "   'recall': 0.7647887323943662,\n",
              "   'f1-score': 0.7962491300667155,\n",
              "   'support': 710}},\n",
              " {'False': {'precision': 0.990521327014218,\n",
              "   'recall': 0.6955074875207987,\n",
              "   'f1-score': 0.8172043010752689,\n",
              "   'support': 601},\n",
              "  'True': {'precision': 0.3645833333333333,\n",
              "   'recall': 0.963302752293578,\n",
              "   'f1-score': 0.5289672544080605,\n",
              "   'support': 109},\n",
              "  'accuracy': 0.7366197183098592,\n",
              "  'macro avg': {'precision': 0.6775523301737757,\n",
              "   'recall': 0.8294051199071883,\n",
              "   'f1-score': 0.6730857777416647,\n",
              "   'support': 710},\n",
              "  'weighted avg': {'precision': 0.8944266209420823,\n",
              "   'recall': 0.7366197183098592,\n",
              "   'f1-score': 0.7729538248967819,\n",
              "   'support': 710}},\n",
              " {'False': {'precision': 0.9924050632911392,\n",
              "   'recall': 0.6522462562396006,\n",
              "   'f1-score': 0.7871485943775101,\n",
              "   'support': 601},\n",
              "  'True': {'precision': 0.33650793650793653,\n",
              "   'recall': 0.9724770642201835,\n",
              "   'f1-score': 0.5,\n",
              "   'support': 109},\n",
              "  'accuracy': 0.7014084507042253,\n",
              "  'macro avg': {'precision': 0.6644564998995379,\n",
              "   'recall': 0.8123616602298921,\n",
              "   'f1-score': 0.643574297188755,\n",
              "   'support': 710},\n",
              "  'weighted avg': {'precision': 0.8917109973483659,\n",
              "   'recall': 0.7014084507042253,\n",
              "   'f1-score': 0.7430652186209628,\n",
              "   'support': 710}},\n",
              " {'False': {'precision': 0.9920844327176781,\n",
              "   'recall': 0.6256239600665557,\n",
              "   'f1-score': 0.7673469387755102,\n",
              "   'support': 601},\n",
              "  'True': {'precision': 0.3202416918429003,\n",
              "   'recall': 0.9724770642201835,\n",
              "   'f1-score': 0.4818181818181818,\n",
              "   'support': 109},\n",
              "  'accuracy': 0.6788732394366197,\n",
              "  'macro avg': {'precision': 0.6561630622802892,\n",
              "   'recall': 0.7990505121433696,\n",
              "   'f1-score': 0.624582560296846,\n",
              "   'support': 710},\n",
              "  'weighted avg': {'precision': 0.888942378132677,\n",
              "   'recall': 0.6788732394366197,\n",
              "   'f1-score': 0.7235122422848781,\n",
              "   'support': 710}}]"
            ]
          },
          "metadata": {},
          "execution_count": 10
        }
      ]
    },
    {
      "cell_type": "code",
      "execution_count": null,
      "metadata": {
        "colab": {
          "base_uri": "https://localhost:8080/"
        },
        "id": "UO3ereyRGeiW",
        "outputId": "f7be13d0-8543-4237-ee78-6c9183353585"
      },
      "outputs": [
        {
          "data": {
            "text/plain": [
              "(710, 710)"
            ]
          },
          "execution_count": 22,
          "metadata": {},
          "output_type": "execute_result"
        }
      ],
      "source": [
        "len(neighbors), len(distances)"
      ]
    },
    {
      "cell_type": "markdown",
      "metadata": {
        "id": "Nrxm8QT9UogQ"
      },
      "source": [
        "### Error analysis"
      ]
    },
    {
      "cell_type": "markdown",
      "source": [
        "The pretrained embeddings are not sensitive enough to subtle differences in model names, e.g. LCSX20 and LCSMX100"
      ],
      "metadata": {
        "id": "WsI2jR-lTrdQ"
      }
    },
    {
      "cell_type": "code",
      "execution_count": 12,
      "metadata": {
        "colab": {
          "base_uri": "https://localhost:8080/"
        },
        "id": "dv1pK0pGOyoF",
        "outputId": "6018371e-380e-4289-8ef3-b0c2506bcf31"
      },
      "outputs": [
        {
          "output_type": "execute_result",
          "data": {
            "text/plain": [
              "(35,\n",
              " [(2,\n",
              "   {'subject_id': 207390682,\n",
              "    'name': 'Sony LCS-X20 Camcorder Case - LCSX20',\n",
              "    'description': 'Nylon, Polyamide - Black',\n",
              "    'manufacturer': 'Sony',\n",
              "    'price': nan},\n",
              "   {'subject_id': 34036,\n",
              "    'name': 'Sony Black Handycam Camcorder Soft Carrying Case - LCSX20',\n",
              "    'description': 'Sony Black Handycam Camcorder Soft Carrying Case - LCSX20/ Compatible To Hard Drive And DVD Camcorders/ Stain Resistant Nylon/ Organizer For Accessories/ Shoulder Held Case',\n",
              "    'price': nan},\n",
              "   {'subject_id': 34150,\n",
              "    'name': 'Sony Soft Camera Carrying Case - LCSMX100',\n",
              "    'description': 'Sony Soft Camera Carrying Case - LCSMX100/ Stain Resistant Nylon/ Colored Interior/ Movable Partition/ Build-In Modular Interface/ Black Finish',\n",
              "    'price': nan}),\n",
              "  (12,\n",
              "   {'subject_id': 90138537,\n",
              "    'name': 'Panasonic KX-TSC14B Corded Telephone',\n",
              "    'description': '2 x Phone Line(s) - Headset - Black',\n",
              "    'manufacturer': 'Panasonic',\n",
              "    'price': nan},\n",
              "   {'subject_id': 30590,\n",
              "    'name': 'Panasonic 2 Line Integrated Corded Phone System - KXTSC14B',\n",
              "    'description': 'Panasonic 2 Line Integrated Corded Phone System - KXTSC14B/ 3-Line LCD Display/ Automatic Line Selection/ Call Waiting Caller ID/ 3-Way Conferencing/ Speakerphone/ Navigator Key/ Black Finish',\n",
              "    'price': 74.0},\n",
              "   {'subject_id': 13954,\n",
              "    'name': 'Panasonic Corded Phone - KXTS3282B',\n",
              "    'description': 'Panasonic Corded Phone - KXTS3282B/ 2 Phone Lines/ Call Waiting/ 50-Station Caller ID/ Speakerphone/ 3-Line LCD Display/ Black Finish',\n",
              "    'price': nan}),\n",
              "  (17,\n",
              "   {'subject_id': 207543189,\n",
              "    'name': 'Panasonic KX-TG9372B Expandable Digital Cordless Phone',\n",
              "    'description': '1 x Phone Line(s) - Black',\n",
              "    'manufacturer': 'Panasonic',\n",
              "    'price': 86.54},\n",
              "   {'subject_id': 34751,\n",
              "    'name': 'Panasonic DECT 6.0 Black Expandable Digital Cordless Phone System - KXTG9372B',\n",
              "    'description': 'Panasonic DECT 6.0 Black Expandable Digital Cordless Phone System - KXTG9372B/ Drop And Splash Resistant/ 2 Handsets/ Up To 6 Multi-Handset Capability/ Digital Answering Machine System/ Ringer ID/ Call Waiting Caller ID/ Voicemail/ Hold/ Mute/ Clock/ Alarm/ LED Lighting/ Night Mode/ Call Block/ Speakerphone/ 11 Days Standby/ 5 Hours Talk Time/ Black Finish',\n",
              "    'price': nan},\n",
              "   {'subject_id': 13954,\n",
              "    'name': 'Panasonic Corded Phone - KXTS3282B',\n",
              "    'description': 'Panasonic Corded Phone - KXTS3282B/ 2 Phone Lines/ Call Waiting/ 50-Station Caller ID/ Speakerphone/ 3-Line LCD Display/ Black Finish',\n",
              "    'price': nan})])"
            ]
          },
          "metadata": {},
          "execution_count": 12
        }
      ],
      "source": [
        "buy_test_recs = [ buy_id_to_rec_map[a['target_id']] for a in abt_buy_test_recs]\n",
        "k = 1\n",
        "wrongs_true1 = []\n",
        "for i, p in enumerate(predictions):\n",
        "  if abt_buy_test_recs[i]['matching'] and not p[str(k)]:\n",
        "    wrongs_true1.append((i, buy_test_recs[i], abt_id_to_rec_map[abt_buy_test_recs[i]['source_id']], abt_recs[neighbors[i][0]])) #take first prediction\n",
        "len(wrongs_true1), wrongs_true1[:3]"
      ]
    },
    {
      "cell_type": "markdown",
      "metadata": {
        "id": "bWyN1OA4PX-0"
      },
      "source": [
        "##3.2 Fine-tune Sentence transformers on train + val pairs"
      ]
    },
    {
      "cell_type": "markdown",
      "metadata": {
        "id": "xnzgUEQ4yh7s"
      },
      "source": [
        "### Multiple Negative Ranking Loss"
      ]
    },
    {
      "cell_type": "code",
      "execution_count": null,
      "metadata": {
        "id": "D7l-lbinzGZj"
      },
      "outputs": [],
      "source": [
        "pairs_pos_train = [(abt_id_to_rec_map[ab[\"source_id\"]], buy_id_to_rec_map[ab[\"target_id\"]]) for ab in abt_buy_train_recs + abt_buy_val_recs if ab['matching']]\n",
        "pairs_neg_train = [(abt_id_to_rec_map[ab[\"source_id\"]], buy_id_to_rec_map[ab[\"target_id\"]]) for ab in abt_buy_train_recs + abt_buy_val_recs if not ab['matching']]\n",
        "\n",
        "description_pos = [(get_description(a), get_description(b)) for a, b in pairs_pos_train]\n",
        "description_neg = [(get_description(a), get_description(b)) for a, b in pairs_neg_train]"
      ]
    },
    {
      "cell_type": "code",
      "execution_count": null,
      "metadata": {
        "colab": {
          "base_uri": "https://localhost:8080/"
        },
        "id": "7PXnKEmT2jKD",
        "outputId": "8a9aad4a-d547-48b9-f236-12dfc4c089ca"
      },
      "outputs": [
        {
          "output_type": "execute_result",
          "data": {
            "text/plain": [
              "('The name of the product is Samsung S2 White 1GB Flash MP3 Player - YPS2ZW. Description: Samsung S2 White 1GB Flash MP3 Player - YPS2ZW/ Super Compact Pebble Shape Design/ Supports MP3, WMA And Ogg/ 1 GB Internal Flash Memory/ Multi-Color LED Light Effects/ Embedded Easy-To-Use Playback Controls/ DNSe 2.0 Enabled/ USB Connection/ Up To 13 Hours Of Playback/ White Finish. The price is unknown.',\n",
              " 'The name of the product is Samsung YP-S2ZW 1GB Flash MP3 Player - YP-S2ZW/XAA. Description: 1GB Flash Memory - White. The price is 29.67.')"
            ]
          },
          "metadata": {},
          "execution_count": 8
        }
      ],
      "source": [
        "description_pos[0]"
      ]
    },
    {
      "cell_type": "code",
      "source": [
        "import Searcher from search\n",
        "\n",
        "config = def_config = {\n",
        "    'model_name': 'sentence-transformers/all-mpnet-base-v2',\n",
        "    'mappings': abt_buy_test_recs,\n",
        "    'db_recs': abt_recs,\n",
        "    'candidates_len': 10,\n",
        "    'get_description': get_description,\n",
        "    'train': {\n",
        "        'epochs': 40,\n",
        "        'batch_size': 32,\n",
        "        'loss': losses.MultipleNegativesRankingLoss\n",
        "    }\n",
        "\n",
        "}\n",
        "searcher = Searcher(config)"
      ],
      "metadata": {
        "id": "bik28u0gXFRF"
      },
      "execution_count": null,
      "outputs": []
    },
    {
      "cell_type": "code",
      "execution_count": null,
      "metadata": {
        "id": "fV29BVce14Cm"
      },
      "outputs": [],
      "source": [
        "searcher.fine_tune_embeddings(description_pos)\n",
        "searcher.search()"
      ]
    },
    {
      "cell_type": "markdown",
      "source": [
        "Fine-tunning embeddings improved the recall@1 by **~23% ** and positive class F1 score by almost **22%**!"
      ],
      "metadata": {
        "id": "yQstKG_OI_G7"
      }
    },
    {
      "cell_type": "code",
      "execution_count": null,
      "metadata": {
        "id": "iHn4nN_L0Hmw"
      },
      "outputs": [],
      "source": [
        "predictions = searcher.get_predictions_for_top_ks()\n",
        "metrics_mnrl = searcher.get_metrics(predictions)"
      ]
    },
    {
      "cell_type": "code",
      "execution_count": null,
      "metadata": {
        "colab": {
          "base_uri": "https://localhost:8080/"
        },
        "id": "BGK89DckJXI0",
        "outputId": "30112362-3868-440d-dc8e-4272495325ff"
      },
      "outputs": [
        {
          "output_type": "execute_result",
          "data": {
            "text/plain": [
              "[{'False': {'precision': 0.9851973684210527,\n",
              "   'recall': 0.9966722129783694,\n",
              "   'f1-score': 0.9909015715467329,\n",
              "   'support': 601},\n",
              "  'True': {'precision': 0.9803921568627451,\n",
              "   'recall': 0.9174311926605505,\n",
              "   'f1-score': 0.9478672985781992,\n",
              "   'support': 109},\n",
              "  'accuracy': 0.9845070422535211,\n",
              "  'macro avg': {'precision': 0.9827947626418989,\n",
              "   'recall': 0.95705170281946,\n",
              "   'f1-score': 0.9693844350624661,\n",
              "   'support': 710},\n",
              "  'weighted avg': {'precision': 0.9844596669282983,\n",
              "   'recall': 0.9845070422535211,\n",
              "   'f1-score': 0.9842949014712818,\n",
              "   'support': 710}},\n",
              " {'False': {'precision': 0.9861830742659758,\n",
              "   'recall': 0.9500831946755408,\n",
              "   'f1-score': 0.9677966101694916,\n",
              "   'support': 601},\n",
              "  'True': {'precision': 0.7709923664122137,\n",
              "   'recall': 0.926605504587156,\n",
              "   'f1-score': 0.8416666666666667,\n",
              "   'support': 109},\n",
              "  'accuracy': 0.9464788732394366,\n",
              "  'macro avg': {'precision': 0.8785877203390948,\n",
              "   'recall': 0.9383443496313484,\n",
              "   'f1-score': 0.9047316384180791,\n",
              "   'support': 710},\n",
              "  'weighted avg': {'precision': 0.9531467543278631,\n",
              "   'recall': 0.9464788732394366,\n",
              "   'f1-score': 0.9484329991246917,\n",
              "   'support': 710}},\n",
              " {'False': {'precision': 0.9907578558225508,\n",
              "   'recall': 0.891846921797005,\n",
              "   'f1-score': 0.9387040280210158,\n",
              "   'support': 601},\n",
              "  'True': {'precision': 0.6153846153846154,\n",
              "   'recall': 0.9541284403669725,\n",
              "   'f1-score': 0.7482014388489209,\n",
              "   'support': 109},\n",
              "  'accuracy': 0.9014084507042254,\n",
              "  'macro avg': {'precision': 0.8030712356035832,\n",
              "   'recall': 0.9229876810819888,\n",
              "   'f1-score': 0.8434527334349684,\n",
              "   'support': 710},\n",
              "  'weighted avg': {'precision': 0.9331301329947551,\n",
              "   'recall': 0.9014084507042254,\n",
              "   'f1-score': 0.9094578558805111,\n",
              "   'support': 710}},\n",
              " {'False': {'precision': 0.9924242424242424,\n",
              "   'recall': 0.8718801996672213,\n",
              "   'f1-score': 0.9282550930026573,\n",
              "   'support': 601},\n",
              "  'True': {'precision': 0.5769230769230769,\n",
              "   'recall': 0.963302752293578,\n",
              "   'f1-score': 0.7216494845360825,\n",
              "   'support': 109},\n",
              "  'accuracy': 0.8859154929577465,\n",
              "  'macro avg': {'precision': 0.7846736596736597,\n",
              "   'recall': 0.9175914759803996,\n",
              "   'f1-score': 0.8249522887693699,\n",
              "   'support': 710},\n",
              "  'weighted avg': {'precision': 0.9286360353261762,\n",
              "   'recall': 0.8859154929577465,\n",
              "   'f1-score': 0.896536767195817,\n",
              "   'support': 710}},\n",
              " {'False': {'precision': 0.9940711462450593,\n",
              "   'recall': 0.8369384359400999,\n",
              "   'f1-score': 0.9087624209575429,\n",
              "   'support': 601},\n",
              "  'True': {'precision': 0.5196078431372549,\n",
              "   'recall': 0.9724770642201835,\n",
              "   'f1-score': 0.6773162939297125,\n",
              "   'support': 109},\n",
              "  'accuracy': 0.8577464788732394,\n",
              "  'macro avg': {'precision': 0.7568394946911572,\n",
              "   'recall': 0.9047077500801417,\n",
              "   'f1-score': 0.7930393574436276,\n",
              "   'support': 710},\n",
              "  'weighted avg': {'precision': 0.9212310053454105,\n",
              "   'recall': 0.8577464788732394,\n",
              "   'f1-score': 0.873230550751862,\n",
              "   'support': 710}},\n",
              " {'False': {'precision': 0.9938900203665988,\n",
              "   'recall': 0.8119800332778702,\n",
              "   'f1-score': 0.8937728937728938,\n",
              "   'support': 601},\n",
              "  'True': {'precision': 0.4840182648401826,\n",
              "   'recall': 0.9724770642201835,\n",
              "   'f1-score': 0.6463414634146342,\n",
              "   'support': 109},\n",
              "  'accuracy': 0.8366197183098592,\n",
              "  'macro avg': {'precision': 0.7389541426033908,\n",
              "   'recall': 0.8922285487490269,\n",
              "   'f1-score': 0.770057178593764,\n",
              "   'support': 710},\n",
              "  'weighted avg': {'precision': 0.915613933954797,\n",
              "   'recall': 0.8366197183098592,\n",
              "   'f1-score': 0.8557869417883159,\n",
              "   'support': 710}},\n",
              " {'False': {'precision': 0.99581589958159,\n",
              "   'recall': 0.7920133111480865,\n",
              "   'f1-score': 0.8822984244670992,\n",
              "   'support': 601},\n",
              "  'True': {'precision': 0.46120689655172414,\n",
              "   'recall': 0.981651376146789,\n",
              "   'f1-score': 0.6275659824046921,\n",
              "   'support': 109},\n",
              "  'accuracy': 0.8211267605633803,\n",
              "  'macro avg': {'precision': 0.7285113980666571,\n",
              "   'recall': 0.8868323436474377,\n",
              "   'f1-score': 0.7549322034358956,\n",
              "   'support': 710},\n",
              "  'weighted avg': {'precision': 0.9137421230601035,\n",
              "   'recall': 0.8211267605633803,\n",
              "   'f1-score': 0.8431916129392084,\n",
              "   'support': 710}},\n",
              " {'False': {'precision': 0.9956521739130435,\n",
              "   'recall': 0.762063227953411,\n",
              "   'f1-score': 0.8633364750235627,\n",
              "   'support': 601},\n",
              "  'True': {'precision': 0.428,\n",
              "   'recall': 0.981651376146789,\n",
              "   'f1-score': 0.596100278551532,\n",
              "   'support': 109},\n",
              "  'accuracy': 0.795774647887324,\n",
              "  'macro avg': {'precision': 0.7118260869565217,\n",
              "   'recall': 0.8718573020500999,\n",
              "   'f1-score': 0.7297183767875474,\n",
              "   'support': 710},\n",
              "  'weighted avg': {'precision': 0.9085055725658299,\n",
              "   'recall': 0.795774647887324,\n",
              "   'f1-score': 0.8223100730299693,\n",
              "   'support': 710}},\n",
              " {'False': {'precision': 0.9977827050997783,\n",
              "   'recall': 0.7487520798668885,\n",
              "   'f1-score': 0.855513307984791,\n",
              "   'support': 601},\n",
              "  'True': {'precision': 0.416988416988417,\n",
              "   'recall': 0.9908256880733946,\n",
              "   'f1-score': 0.5869565217391305,\n",
              "   'support': 109},\n",
              "  'accuracy': 0.7859154929577464,\n",
              "  'macro avg': {'precision': 0.7073855610440977,\n",
              "   'recall': 0.8697888839701415,\n",
              "   'f1-score': 0.7212349148619608,\n",
              "   'support': 710},\n",
              "  'weighted avg': {'precision': 0.9086185115728228,\n",
              "   'recall': 0.7859154929577464,\n",
              "   'f1-score': 0.8142841675611614,\n",
              "   'support': 710}},\n",
              " {'False': {'precision': 0.9977272727272727,\n",
              "   'recall': 0.7304492512479202,\n",
              "   'f1-score': 0.8434197886647453,\n",
              "   'support': 601},\n",
              "  'True': {'precision': 0.4,\n",
              "   'recall': 0.9908256880733946,\n",
              "   'f1-score': 0.5699208443271767,\n",
              "   'support': 109},\n",
              "  'accuracy': 0.7704225352112676,\n",
              "  'macro avg': {'precision': 0.6988636363636364,\n",
              "   'recall': 0.8606374696606574,\n",
              "   'f1-score': 0.706670316495961,\n",
              "   'support': 710},\n",
              "  'weighted avg': {'precision': 0.9059635083226633,\n",
              "   'recall': 0.7704225352112676,\n",
              "   'f1-score': 0.8014319225622172,\n",
              "   'support': 710}}]"
            ]
          },
          "metadata": {},
          "execution_count": 23
        }
      ],
      "source": [
        "metrics_mnrl"
      ]
    },
    {
      "cell_type": "markdown",
      "source": [
        "##3.3 Fine-tune Sentence transformers on *augmented* train + val pairs"
      ],
      "metadata": {
        "id": "ouIA5nBQJTlV"
      }
    },
    {
      "cell_type": "code",
      "source": [
        "import Searcher from search\n",
        "\n",
        "config = def_config = {\n",
        "    'model_name': 'sentence-transformers/all-mpnet-base-v2',\n",
        "    'mappings': abt_buy_test_recs,\n",
        "    'db_recs': abt_recs,\n",
        "    'candidates_len': 10,\n",
        "    'get_description': get_description,\n",
        "    'train': {\n",
        "        'epochs': 40,\n",
        "        'batch_size': 16,\n",
        "        'loss': losses.MultipleNegativesRankingLoss\n",
        "    }\n",
        "\n",
        "}\n",
        "searcher = Searcher(config)\n"
      ],
      "metadata": {
        "id": "5T06QPFBMpMC"
      },
      "execution_count": 13,
      "outputs": []
    },
    {
      "cell_type": "code",
      "source": [
        "# assing augmented data to positive & negative pairs before fine tuning\n",
        "description_pos = data_pos_aug\n",
        "description_neg = data_neg_aug"
      ],
      "metadata": {
        "id": "1K10rTM1cunI"
      },
      "execution_count": null,
      "outputs": []
    },
    {
      "cell_type": "code",
      "source": [
        "len(description_pos_aug)"
      ],
      "metadata": {
        "colab": {
          "base_uri": "https://localhost:8080/"
        },
        "id": "FTiDQ2KNMwRo",
        "outputId": "38ad6655-206e-45dd-a96f-031e228b1a4c"
      },
      "execution_count": 12,
      "outputs": [
        {
          "output_type": "execute_result",
          "data": {
            "text/plain": [
              "1728"
            ]
          },
          "metadata": {},
          "execution_count": 12
        }
      ]
    },
    {
      "cell_type": "code",
      "source": [
        "searcher.fine_tune_embeddings(description_pos)\n",
        "searcher.search()"
      ],
      "metadata": {
        "id": "GiZf8ofcdOdp"
      },
      "execution_count": null,
      "outputs": []
    },
    {
      "cell_type": "markdown",
      "source": [
        "Fine-tunning embeddings on augmented dataset improved the recall@1 by additional **~1% ** and positive class F1 score by almost **2%**!"
      ],
      "metadata": {
        "id": "NE8khNk8a2ZE"
      }
    },
    {
      "cell_type": "code",
      "source": [
        "predictions = searcher.get_predictions_for_top_ks()\n",
        "metrics_mnrl_aug = searcher.get_metrics(predictions)\n",
        "metrics_mnrl_aug"
      ],
      "metadata": {
        "colab": {
          "base_uri": "https://localhost:8080/"
        },
        "id": "fj_ktOvIbjIr",
        "outputId": "1df3668d-035a-4bbd-bad1-0a01e18e67d5"
      },
      "execution_count": 19,
      "outputs": [
        {
          "output_type": "execute_result",
          "data": {
            "text/plain": [
              "[{'False': {'precision': 0.9884868421052632,\n",
              "   'recall': 1.0,\n",
              "   'f1-score': 0.9942100909842845,\n",
              "   'support': 601},\n",
              "  'True': {'precision': 1.0,\n",
              "   'recall': 0.9357798165137615,\n",
              "   'f1-score': 0.966824644549763,\n",
              "   'support': 109},\n",
              "  'accuracy': 0.9901408450704225,\n",
              "  'macro avg': {'precision': 0.9942434210526316,\n",
              "   'recall': 0.9678899082568808,\n",
              "   'f1-score': 0.9805173677670238,\n",
              "   'support': 710},\n",
              "  'weighted avg': {'precision': 0.9902543550778354,\n",
              "   'recall': 0.9901408450704225,\n",
              "   'f1-score': 0.9900058463908157,\n",
              "   'support': 710}},\n",
              " {'False': {'precision': 0.9929824561403509,\n",
              "   'recall': 0.9417637271214643,\n",
              "   'f1-score': 0.9666951323654995,\n",
              "   'support': 601},\n",
              "  'True': {'precision': 0.75,\n",
              "   'recall': 0.963302752293578,\n",
              "   'f1-score': 0.8433734939759036,\n",
              "   'support': 109},\n",
              "  'accuracy': 0.9450704225352112,\n",
              "  'macro avg': {'precision': 0.8714912280701754,\n",
              "   'recall': 0.9525332397075211,\n",
              "   'f1-score': 0.9050343131707015,\n",
              "   'support': 710},\n",
              "  'weighted avg': {'precision': 0.955679515690635,\n",
              "   'recall': 0.9450704225352112,\n",
              "   'f1-score': 0.9477626554859699,\n",
              "   'support': 710}},\n",
              " {'False': {'precision': 0.994392523364486,\n",
              "   'recall': 0.8851913477537438,\n",
              "   'f1-score': 0.9366197183098592,\n",
              "   'support': 601},\n",
              "  'True': {'precision': 0.6057142857142858,\n",
              "   'recall': 0.9724770642201835,\n",
              "   'f1-score': 0.7464788732394366,\n",
              "   'support': 109},\n",
              "  'accuracy': 0.8985915492957747,\n",
              "  'macro avg': {'precision': 0.8000534045393859,\n",
              "   'recall': 0.9288342059869636,\n",
              "   'f1-score': 0.841549295774648,\n",
              "   'support': 710},\n",
              "  'weighted avg': {'precision': 0.9347222023731172,\n",
              "   'recall': 0.8985915492957747,\n",
              "   'f1-score': 0.9074290815314423,\n",
              "   'support': 710}},\n",
              " {'False': {'precision': 0.9980694980694981,\n",
              "   'recall': 0.8602329450915142,\n",
              "   'f1-score': 0.9240393208221627,\n",
              "   'support': 601},\n",
              "  'True': {'precision': 0.5625,\n",
              "   'recall': 0.9908256880733946,\n",
              "   'f1-score': 0.717607973421927,\n",
              "   'support': 109},\n",
              "  'accuracy': 0.8802816901408451,\n",
              "  'macro avg': {'precision': 0.7802847490347491,\n",
              "   'recall': 0.9255293165824543,\n",
              "   'f1-score': 0.8208236471220448,\n",
              "   'support': 710},\n",
              "  'weighted avg': {'precision': 0.9312003779433358,\n",
              "   'recall': 0.8802816901408451,\n",
              "   'f1-score': 0.892347747770577,\n",
              "   'support': 710}},\n",
              " {'False': {'precision': 1.0,\n",
              "   'recall': 0.8352745424292846,\n",
              "   'f1-score': 0.9102447869446962,\n",
              "   'support': 601},\n",
              "  'True': {'precision': 0.5240384615384616,\n",
              "   'recall': 1.0,\n",
              "   'f1-score': 0.6876971608832807,\n",
              "   'support': 109},\n",
              "  'accuracy': 0.8605633802816901,\n",
              "  'macro avg': {'precision': 0.7620192307692308,\n",
              "   'recall': 0.9176372712146423,\n",
              "   'f1-score': 0.7989709739139885,\n",
              "   'support': 710},\n",
              "  'weighted avg': {'precision': 0.9269298483206934,\n",
              "   'recall': 0.8605633802816901,\n",
              "   'f1-score': 0.8760790246338593,\n",
              "   'support': 710}},\n",
              " {'False': {'precision': 1.0,\n",
              "   'recall': 0.800332778702163,\n",
              "   'f1-score': 0.8890942698706099,\n",
              "   'support': 601},\n",
              "  'True': {'precision': 0.4759825327510917,\n",
              "   'recall': 1.0,\n",
              "   'f1-score': 0.6449704142011834,\n",
              "   'support': 109},\n",
              "  'accuracy': 0.8309859154929577,\n",
              "  'macro avg': {'precision': 0.7379912663755459,\n",
              "   'recall': 0.9001663893510815,\n",
              "   'f1-score': 0.7670323420358967,\n",
              "   'support': 710},\n",
              "  'weighted avg': {'precision': 0.919552247985731,\n",
              "   'recall': 0.8309859154929577,\n",
              "   'f1-score': 0.8516161004791064,\n",
              "   'support': 710}},\n",
              " {'False': {'precision': 1.0,\n",
              "   'recall': 0.778702163061564,\n",
              "   'f1-score': 0.8755846585594013,\n",
              "   'support': 601},\n",
              "  'True': {'precision': 0.45041322314049587,\n",
              "   'recall': 1.0,\n",
              "   'f1-score': 0.6210826210826211,\n",
              "   'support': 109},\n",
              "  'accuracy': 0.8126760563380282,\n",
              "  'macro avg': {'precision': 0.7252066115702479,\n",
              "   'recall': 0.889351081530782,\n",
              "   'f1-score': 0.7483336398210112,\n",
              "   'support': 710},\n",
              "  'weighted avg': {'precision': 0.9156268187638226,\n",
              "   'recall': 0.8126760563380282,\n",
              "   'f1-score': 0.8365132190031068,\n",
              "   'support': 710}},\n",
              " {'False': {'precision': 1.0,\n",
              "   'recall': 0.7537437603993344,\n",
              "   'f1-score': 0.8595825426944972,\n",
              "   'support': 601},\n",
              "  'True': {'precision': 0.42412451361867703,\n",
              "   'recall': 1.0,\n",
              "   'f1-score': 0.5956284153005464,\n",
              "   'support': 109},\n",
              "  'accuracy': 0.7915492957746478,\n",
              "  'macro avg': {'precision': 0.7120622568093385,\n",
              "   'recall': 0.8768718801996672,\n",
              "   'f1-score': 0.7276054789975218,\n",
              "   'support': 710},\n",
              "  'weighted avg': {'precision': 0.9115909464569518,\n",
              "   'recall': 0.7915492957746478,\n",
              "   'f1-score': 0.8190600076438765,\n",
              "   'support': 710}},\n",
              " {'False': {'precision': 1.0,\n",
              "   'recall': 0.7420965058236273,\n",
              "   'f1-score': 0.8519579751671442,\n",
              "   'support': 601},\n",
              "  'True': {'precision': 0.4128787878787879,\n",
              "   'recall': 1.0,\n",
              "   'f1-score': 0.5844504021447722,\n",
              "   'support': 109},\n",
              "  'accuracy': 0.7816901408450704,\n",
              "  'macro avg': {'precision': 0.7064393939393939,\n",
              "   'recall': 0.8710482529118136,\n",
              "   'f1-score': 0.7182041886559583,\n",
              "   'support': 710},\n",
              "  'weighted avg': {'precision': 0.9098644899701238,\n",
              "   'recall': 0.7816901408450704,\n",
              "   'f1-score': 0.8108899111397659,\n",
              "   'support': 710}},\n",
              " {'False': {'precision': 1.0,\n",
              "   'recall': 0.7321131447587355,\n",
              "   'f1-score': 0.8453410182516811,\n",
              "   'support': 601},\n",
              "  'True': {'precision': 0.40370370370370373,\n",
              "   'recall': 1.0,\n",
              "   'f1-score': 0.575197889182058,\n",
              "   'support': 109},\n",
              "  'accuracy': 0.7732394366197183,\n",
              "  'macro avg': {'precision': 0.7018518518518518,\n",
              "   'recall': 0.8660565723793677,\n",
              "   'f1-score': 0.7102694537168696,\n",
              "   'support': 710},\n",
              "  'weighted avg': {'precision': 0.9084559207094418,\n",
              "   'recall': 0.7732394366197183,\n",
              "   'f1-score': 0.8038683406902882,\n",
              "   'support': 710}}]"
            ]
          },
          "metadata": {},
          "execution_count": 19
        }
      ]
    },
    {
      "cell_type": "markdown",
      "metadata": {
        "id": "PVYcusJQKGV0"
      },
      "source": [
        "## Plot models"
      ]
    },
    {
      "cell_type": "code",
      "execution_count": null,
      "metadata": {
        "id": "OHRP0rdshipN"
      },
      "outputs": [],
      "source": [
        "metrics_tuned = [{'False': {'precision': 0.9851485148514851,\n",
        "   'recall': 0.9933444259567388,\n",
        "   'f1-score': 0.9892294946147473,\n",
        "   'support': 601},\n",
        "  'True': {'precision': 0.9615384615384616,\n",
        "   'recall': 0.9174311926605505,\n",
        "   'f1-score': 0.9389671361502349,\n",
        "   'support': 109},\n",
        "  'accuracy': 0.9816901408450704,\n",
        "  'macro avg': {'precision': 0.9733434881949734,\n",
        "   'recall': 0.9553878093086446,\n",
        "   'f1-score': 0.9640983153824911,\n",
        "   'support': 710},\n",
        "  'weighted avg': {'precision': 0.9815238728639927,\n",
        "   'recall': 0.9816901408450704,\n",
        "   'f1-score': 0.9815131607096319,\n",
        "   'support': 710}},\n",
        " {'False': {'precision': 0.986013986013986,\n",
        "   'recall': 0.9384359400998337,\n",
        "   'f1-score': 0.9616368286445013,\n",
        "   'support': 601},\n",
        "  'True': {'precision': 0.7318840579710145,\n",
        "   'recall': 0.926605504587156,\n",
        "   'f1-score': 0.8178137651821862,\n",
        "   'support': 109},\n",
        "  'accuracy': 0.9366197183098591,\n",
        "  'macro avg': {'precision': 0.8589490219925002,\n",
        "   'recall': 0.9325207223434948,\n",
        "   'f1-score': 0.8897252969133438,\n",
        "   'support': 710},\n",
        "  'weighted avg': {'precision': 0.9469996731172483,\n",
        "   'recall': 0.9366197183098591,\n",
        "   'f1-score': 0.9395569498876106,\n",
        "   'support': 710}},\n",
        " {'False': {'precision': 0.9906716417910447,\n",
        "   'recall': 0.8835274542429284,\n",
        "   'f1-score': 0.9340369393139841,\n",
        "   'support': 601},\n",
        "  'True': {'precision': 0.5977011494252874,\n",
        "   'recall': 0.9541284403669725,\n",
        "   'f1-score': 0.734982332155477,\n",
        "   'support': 109},\n",
        "  'accuracy': 0.8943661971830986,\n",
        "  'macro avg': {'precision': 0.7941863956081661,\n",
        "   'recall': 0.9188279473049505,\n",
        "   'f1-score': 0.8345096357347306,\n",
        "   'support': 710},\n",
        "  'weighted avg': {'precision': 0.9303423690194003,\n",
        "   'recall': 0.8943661971830986,\n",
        "   'f1-score': 0.9034778517361288,\n",
        "   'support': 710}},\n",
        " {'False': {'precision': 0.9903846153846154,\n",
        "   'recall': 0.8569051580698835,\n",
        "   'f1-score': 0.9188224799286352,\n",
        "   'support': 601},\n",
        "  'True': {'precision': 0.5473684210526316,\n",
        "   'recall': 0.9541284403669725,\n",
        "   'f1-score': 0.6956521739130436,\n",
        "   'support': 109},\n",
        "  'accuracy': 0.8718309859154929,\n",
        "  'macro avg': {'precision': 0.7688765182186235,\n",
        "   'recall': 0.9055167992184281,\n",
        "   'f1-score': 0.8072373269208394,\n",
        "   'support': 710},\n",
        "  'weighted avg': {'precision': 0.9223722700575925,\n",
        "   'recall': 0.8718309859154929,\n",
        "   'f1-score': 0.8845611230896219,\n",
        "   'support': 710}},\n",
        " {'False': {'precision': 0.9919678714859438,\n",
        "   'recall': 0.8219633943427621,\n",
        "   'f1-score': 0.8989990900818927,\n",
        "   'support': 601},\n",
        "  'True': {'precision': 0.49528301886792453,\n",
        "   'recall': 0.963302752293578,\n",
        "   'f1-score': 0.6542056074766356,\n",
        "   'support': 109},\n",
        "  'accuracy': 0.8436619718309859,\n",
        "  'macro avg': {'precision': 0.7436254451769342,\n",
        "   'recall': 0.89263307331817,\n",
        "   'f1-score': 0.7766023487792642,\n",
        "   'support': 710},\n",
        "  'weighted avg': {'precision': 0.9157162532671211,\n",
        "   'recall': 0.8436619718309859,\n",
        "   'f1-score': 0.8614181188086912,\n",
        "   'support': 710}},\n",
        " {'False': {'precision': 0.9915254237288136,\n",
        "   'recall': 0.778702163061564,\n",
        "   'f1-score': 0.8723205964585274,\n",
        "   'support': 601},\n",
        "  'True': {'precision': 0.4411764705882353,\n",
        "   'recall': 0.963302752293578,\n",
        "   'f1-score': 0.6051873198847262,\n",
        "   'support': 109},\n",
        "  'accuracy': 0.8070422535211268,\n",
        "  'macro avg': {'precision': 0.7163509471585244,\n",
        "   'recall': 0.871002457677571,\n",
        "   'f1-score': 0.7387539581716268,\n",
        "   'support': 710},\n",
        "  'weighted avg': {'precision': 0.9070352323311754,\n",
        "   'recall': 0.8070422535211268,\n",
        "   'f1-score': 0.8313099948436762,\n",
        "   'support': 710}},\n",
        " {'False': {'precision': 0.9935064935064936,\n",
        "   'recall': 0.7637271214642263,\n",
        "   'f1-score': 0.863593603010348,\n",
        "   'support': 601},\n",
        "  'True': {'precision': 0.4274193548387097,\n",
        "   'recall': 0.9724770642201835,\n",
        "   'f1-score': 0.5938375350140056,\n",
        "   'support': 109},\n",
        "  'accuracy': 0.795774647887324,\n",
        "  'macro avg': {'precision': 0.7104629241726016,\n",
        "   'recall': 0.868102092842205,\n",
        "   'f1-score': 0.7287155690121768,\n",
        "   'support': 710},\n",
        "  'weighted avg': {'precision': 0.9066001581335521,\n",
        "   'recall': 0.795774647887324,\n",
        "   'f1-score': 0.8221803475010504,\n",
        "   'support': 710}},\n",
        " {'False': {'precision': 0.9955156950672646,\n",
        "   'recall': 0.7387687188019967,\n",
        "   'f1-score': 0.8481375358166189,\n",
        "   'support': 601},\n",
        "  'True': {'precision': 0.4053030303030303,\n",
        "   'recall': 0.981651376146789,\n",
        "   'f1-score': 0.5737265415549597,\n",
        "   'support': 109},\n",
        "  'accuracy': 0.776056338028169,\n",
        "  'macro avg': {'precision': 0.7004093626851474,\n",
        "   'recall': 0.8602100474743928,\n",
        "   'f1-score': 0.7109320386857894,\n",
        "   'support': 710},\n",
        "  'weighted avg': {'precision': 0.9049055817443045,\n",
        "   'recall': 0.776056338028169,\n",
        "   'f1-score': 0.8060096507820824,\n",
        "   'support': 710}},\n",
        " {'False': {'precision': 0.9953271028037384,\n",
        "   'recall': 0.7088186356073212,\n",
        "   'f1-score': 0.8279883381924199,\n",
        "   'support': 601},\n",
        "  'True': {'precision': 0.37943262411347517,\n",
        "   'recall': 0.981651376146789,\n",
        "   'f1-score': 0.5473145780051151,\n",
        "   'support': 109},\n",
        "  'accuracy': 0.7507042253521127,\n",
        "  'macro avg': {'precision': 0.6873798634586068,\n",
        "   'recall': 0.845235005877055,\n",
        "   'f1-score': 0.6876514580987675,\n",
        "   'support': 710},\n",
        "  'weighted avg': {'precision': 0.9007742884695994,\n",
        "   'recall': 0.7507042253521127,\n",
        "   'f1-score': 0.7848989862763407,\n",
        "   'support': 710}},\n",
        " {'False': {'precision': 0.9951923076923077,\n",
        "   'recall': 0.6888519134775375,\n",
        "   'f1-score': 0.8141592920353983,\n",
        "   'support': 601},\n",
        "  'True': {'precision': 0.36394557823129253,\n",
        "   'recall': 0.981651376146789,\n",
        "   'f1-score': 0.5310173697270472,\n",
        "   'support': 109},\n",
        "  'accuracy': 0.7338028169014085,\n",
        "  'macro avg': {'precision': 0.6795689429618001,\n",
        "   'recall': 0.8352516448121632,\n",
        "   'f1-score': 0.6725883308812227,\n",
        "   'support': 710},\n",
        "  'weighted avg': {'precision': 0.898282598521532,\n",
        "   'recall': 0.7338028169014085,\n",
        "   'f1-score': 0.7706910250894683,\n",
        "   'support': 710}}]\n",
        "\n",
        "metrics_tuned_aug = [{'False': {'precision': 0.9884868421052632,\n",
        "   'recall': 1.0,\n",
        "   'f1-score': 0.9942100909842845,\n",
        "   'support': 601},\n",
        "  'True': {'precision': 1.0,\n",
        "   'recall': 0.9357798165137615,\n",
        "   'f1-score': 0.966824644549763,\n",
        "   'support': 109},\n",
        "  'accuracy': 0.9901408450704225,\n",
        "  'macro avg': {'precision': 0.9942434210526316,\n",
        "   'recall': 0.9678899082568808,\n",
        "   'f1-score': 0.9805173677670238,\n",
        "   'support': 710},\n",
        "  'weighted avg': {'precision': 0.9902543550778354,\n",
        "   'recall': 0.9901408450704225,\n",
        "   'f1-score': 0.9900058463908157,\n",
        "   'support': 710}},\n",
        " {'False': {'precision': 0.9929824561403509,\n",
        "   'recall': 0.9417637271214643,\n",
        "   'f1-score': 0.9666951323654995,\n",
        "   'support': 601},\n",
        "  'True': {'precision': 0.75,\n",
        "   'recall': 0.963302752293578,\n",
        "   'f1-score': 0.8433734939759036,\n",
        "   'support': 109},\n",
        "  'accuracy': 0.9450704225352112,\n",
        "  'macro avg': {'precision': 0.8714912280701754,\n",
        "   'recall': 0.9525332397075211,\n",
        "   'f1-score': 0.9050343131707015,\n",
        "   'support': 710},\n",
        "  'weighted avg': {'precision': 0.955679515690635,\n",
        "   'recall': 0.9450704225352112,\n",
        "   'f1-score': 0.9477626554859699,\n",
        "   'support': 710}},\n",
        " {'False': {'precision': 0.994392523364486,\n",
        "   'recall': 0.8851913477537438,\n",
        "   'f1-score': 0.9366197183098592,\n",
        "   'support': 601},\n",
        "  'True': {'precision': 0.6057142857142858,\n",
        "   'recall': 0.9724770642201835,\n",
        "   'f1-score': 0.7464788732394366,\n",
        "   'support': 109},\n",
        "  'accuracy': 0.8985915492957747,\n",
        "  'macro avg': {'precision': 0.8000534045393859,\n",
        "   'recall': 0.9288342059869636,\n",
        "   'f1-score': 0.841549295774648,\n",
        "   'support': 710},\n",
        "  'weighted avg': {'precision': 0.9347222023731172,\n",
        "   'recall': 0.8985915492957747,\n",
        "   'f1-score': 0.9074290815314423,\n",
        "   'support': 710}},\n",
        " {'False': {'precision': 0.9980694980694981,\n",
        "   'recall': 0.8602329450915142,\n",
        "   'f1-score': 0.9240393208221627,\n",
        "   'support': 601},\n",
        "  'True': {'precision': 0.5625,\n",
        "   'recall': 0.9908256880733946,\n",
        "   'f1-score': 0.717607973421927,\n",
        "   'support': 109},\n",
        "  'accuracy': 0.8802816901408451,\n",
        "  'macro avg': {'precision': 0.7802847490347491,\n",
        "   'recall': 0.9255293165824543,\n",
        "   'f1-score': 0.8208236471220448,\n",
        "   'support': 710},\n",
        "  'weighted avg': {'precision': 0.9312003779433358,\n",
        "   'recall': 0.8802816901408451,\n",
        "   'f1-score': 0.892347747770577,\n",
        "   'support': 710}},\n",
        " {'False': {'precision': 1.0,\n",
        "   'recall': 0.8352745424292846,\n",
        "   'f1-score': 0.9102447869446962,\n",
        "   'support': 601},\n",
        "  'True': {'precision': 0.5240384615384616,\n",
        "   'recall': 1.0,\n",
        "   'f1-score': 0.6876971608832807,\n",
        "   'support': 109},\n",
        "  'accuracy': 0.8605633802816901,\n",
        "  'macro avg': {'precision': 0.7620192307692308,\n",
        "   'recall': 0.9176372712146423,\n",
        "   'f1-score': 0.7989709739139885,\n",
        "   'support': 710},\n",
        "  'weighted avg': {'precision': 0.9269298483206934,\n",
        "   'recall': 0.8605633802816901,\n",
        "   'f1-score': 0.8760790246338593,\n",
        "   'support': 710}},\n",
        " {'False': {'precision': 1.0,\n",
        "   'recall': 0.800332778702163,\n",
        "   'f1-score': 0.8890942698706099,\n",
        "   'support': 601},\n",
        "  'True': {'precision': 0.4759825327510917,\n",
        "   'recall': 1.0,\n",
        "   'f1-score': 0.6449704142011834,\n",
        "   'support': 109},\n",
        "  'accuracy': 0.8309859154929577,\n",
        "  'macro avg': {'precision': 0.7379912663755459,\n",
        "   'recall': 0.9001663893510815,\n",
        "   'f1-score': 0.7670323420358967,\n",
        "   'support': 710},\n",
        "  'weighted avg': {'precision': 0.919552247985731,\n",
        "   'recall': 0.8309859154929577,\n",
        "   'f1-score': 0.8516161004791064,\n",
        "   'support': 710}},\n",
        " {'False': {'precision': 1.0,\n",
        "   'recall': 0.778702163061564,\n",
        "   'f1-score': 0.8755846585594013,\n",
        "   'support': 601},\n",
        "  'True': {'precision': 0.45041322314049587,\n",
        "   'recall': 1.0,\n",
        "   'f1-score': 0.6210826210826211,\n",
        "   'support': 109},\n",
        "  'accuracy': 0.8126760563380282,\n",
        "  'macro avg': {'precision': 0.7252066115702479,\n",
        "   'recall': 0.889351081530782,\n",
        "   'f1-score': 0.7483336398210112,\n",
        "   'support': 710},\n",
        "  'weighted avg': {'precision': 0.9156268187638226,\n",
        "   'recall': 0.8126760563380282,\n",
        "   'f1-score': 0.8365132190031068,\n",
        "   'support': 710}},\n",
        " {'False': {'precision': 1.0,\n",
        "   'recall': 0.7537437603993344,\n",
        "   'f1-score': 0.8595825426944972,\n",
        "   'support': 601},\n",
        "  'True': {'precision': 0.42412451361867703,\n",
        "   'recall': 1.0,\n",
        "   'f1-score': 0.5956284153005464,\n",
        "   'support': 109},\n",
        "  'accuracy': 0.7915492957746478,\n",
        "  'macro avg': {'precision': 0.7120622568093385,\n",
        "   'recall': 0.8768718801996672,\n",
        "   'f1-score': 0.7276054789975218,\n",
        "   'support': 710},\n",
        "  'weighted avg': {'precision': 0.9115909464569518,\n",
        "   'recall': 0.7915492957746478,\n",
        "   'f1-score': 0.8190600076438765,\n",
        "   'support': 710}},\n",
        " {'False': {'precision': 1.0,\n",
        "   'recall': 0.7420965058236273,\n",
        "   'f1-score': 0.8519579751671442,\n",
        "   'support': 601},\n",
        "  'True': {'precision': 0.4128787878787879,\n",
        "   'recall': 1.0,\n",
        "   'f1-score': 0.5844504021447722,\n",
        "   'support': 109},\n",
        "  'accuracy': 0.7816901408450704,\n",
        "  'macro avg': {'precision': 0.7064393939393939,\n",
        "   'recall': 0.8710482529118136,\n",
        "   'f1-score': 0.7182041886559583,\n",
        "   'support': 710},\n",
        "  'weighted avg': {'precision': 0.9098644899701238,\n",
        "   'recall': 0.7816901408450704,\n",
        "   'f1-score': 0.8108899111397659,\n",
        "   'support': 710}},\n",
        " {'False': {'precision': 1.0,\n",
        "   'recall': 0.7321131447587355,\n",
        "   'f1-score': 0.8453410182516811,\n",
        "   'support': 601},\n",
        "  'True': {'precision': 0.40370370370370373,\n",
        "   'recall': 1.0,\n",
        "   'f1-score': 0.575197889182058,\n",
        "   'support': 109},\n",
        "  'accuracy': 0.7732394366197183,\n",
        "  'macro avg': {'precision': 0.7018518518518518,\n",
        "   'recall': 0.8660565723793677,\n",
        "   'f1-score': 0.7102694537168696,\n",
        "   'support': 710},\n",
        "  'weighted avg': {'precision': 0.9084559207094418,\n",
        "   'recall': 0.7732394366197183,\n",
        "   'f1-score': 0.8038683406902882,\n",
        "   'support': 710}}]\n",
        "\n",
        "\n",
        "\n",
        "metrics_base = [{'False': {'precision': 0.9431818181818182,\n",
        "   'recall': 0.9667221297836939,\n",
        "   'f1-score': 0.9548069022185702,\n",
        "   'support': 601},\n",
        "  'True': {'precision': 0.7872340425531915,\n",
        "   'recall': 0.6788990825688074,\n",
        "   'f1-score': 0.729064039408867,\n",
        "   'support': 109},\n",
        "  'accuracy': 0.9225352112676056,\n",
        "  'macro avg': {'precision': 0.8652079303675049,\n",
        "   'recall': 0.8228106061762506,\n",
        "   'f1-score': 0.8419354708137186,\n",
        "   'support': 710},\n",
        "  'weighted avg': {'precision': 0.9192405399515079,\n",
        "   'recall': 0.9225352112676056,\n",
        "   'f1-score': 0.9201506035618693,\n",
        "   'support': 710}},\n",
        " {'False': {'precision': 0.9644760213143873,\n",
        "   'recall': 0.9034941763727121,\n",
        "   'f1-score': 0.9329896907216495,\n",
        "   'support': 601},\n",
        "  'True': {'precision': 0.6054421768707483,\n",
        "   'recall': 0.8165137614678899,\n",
        "   'f1-score': 0.6953125,\n",
        "   'support': 109},\n",
        "  'accuracy': 0.8901408450704226,\n",
        "  'macro avg': {'precision': 0.7849590990925678,\n",
        "   'recall': 0.860003968920301,\n",
        "   'f1-score': 0.8141510953608248,\n",
        "   'support': 710},\n",
        "  'weighted avg': {'precision': 0.909356740970223,\n",
        "   'recall': 0.8901408450704226,\n",
        "   'f1-score': 0.8965012205967765,\n",
        "   'support': 710}},\n",
        " {'False': {'precision': 0.9679245283018868,\n",
        "   'recall': 0.8535773710482529,\n",
        "   'f1-score': 0.907161803713528,\n",
        "   'support': 601},\n",
        "  'True': {'precision': 0.5111111111111111,\n",
        "   'recall': 0.8440366972477065,\n",
        "   'f1-score': 0.6366782006920415,\n",
        "   'support': 109},\n",
        "  'accuracy': 0.852112676056338,\n",
        "  'macro avg': {'precision': 0.7395178197064989,\n",
        "   'recall': 0.8488070341479796,\n",
        "   'f1-score': 0.7719200022027848,\n",
        "   'support': 710},\n",
        "  'weighted avg': {'precision': 0.8977940177754156,\n",
        "   'recall': 0.852112676056338,\n",
        "   'f1-score': 0.8656368562074124,\n",
        "   'support': 710}},\n",
        " {'False': {'precision': 0.9744094488188977,\n",
        "   'recall': 0.8236272878535774,\n",
        "   'f1-score': 0.8926961226330027,\n",
        "   'support': 601},\n",
        "  'True': {'precision': 0.4752475247524752,\n",
        "   'recall': 0.8807339449541285,\n",
        "   'f1-score': 0.6173633440514469,\n",
        "   'support': 109},\n",
        "  'accuracy': 0.8323943661971831,\n",
        "  'macro avg': {'precision': 0.7248284867856865,\n",
        "   'recall': 0.852180616403853,\n",
        "   'f1-score': 0.7550297333422248,\n",
        "   'support': 710},\n",
        "  'weighted avg': {'precision': 0.8977775478002498,\n",
        "   'recall': 0.8323943661971831,\n",
        "   'f1-score': 0.8504267242310454,\n",
        "   'support': 710}},\n",
        " {'False': {'precision': 0.979253112033195,\n",
        "   'recall': 0.7853577371048253,\n",
        "   'f1-score': 0.8716528162511542,\n",
        "   'support': 601},\n",
        "  'True': {'precision': 0.4342105263157895,\n",
        "   'recall': 0.908256880733945,\n",
        "   'f1-score': 0.5875370919881305,\n",
        "   'support': 109},\n",
        "  'accuracy': 0.8042253521126761,\n",
        "  'macro avg': {'precision': 0.7067318191744922,\n",
        "   'recall': 0.846807308919385,\n",
        "   'f1-score': 0.7295949541196424,\n",
        "   'support': 710},\n",
        "  'weighted avg': {'precision': 0.8955775601413679,\n",
        "   'recall': 0.8042253521126761,\n",
        "   'f1-score': 0.8280350501319012,\n",
        "   'support': 710}},\n",
        " {'False': {'precision': 0.9806034482758621,\n",
        "   'recall': 0.757071547420965,\n",
        "   'f1-score': 0.8544600938967136,\n",
        "   'support': 601},\n",
        "  'True': {'precision': 0.4065040650406504,\n",
        "   'recall': 0.9174311926605505,\n",
        "   'f1-score': 0.5633802816901409,\n",
        "   'support': 109},\n",
        "  'accuracy': 0.7816901408450704,\n",
        "  'macro avg': {'precision': 0.6935537566582562,\n",
        "   'recall': 0.8372513700407578,\n",
        "   'f1-score': 0.7089201877934272,\n",
        "   'support': 710},\n",
        "  'weighted avg': {'precision': 0.8924670640890479,\n",
        "   'recall': 0.7816901408450704,\n",
        "   'f1-score': 0.8097731931495075,\n",
        "   'support': 710}},\n",
        " {'False': {'precision': 0.9865470852017937,\n",
        "   'recall': 0.7321131447587355,\n",
        "   'f1-score': 0.8404966571155683,\n",
        "   'support': 601},\n",
        "  'True': {'precision': 0.39015151515151514,\n",
        "   'recall': 0.944954128440367,\n",
        "   'f1-score': 0.5522788203753352,\n",
        "   'support': 109},\n",
        "  'accuracy': 0.7647887323943662,\n",
        "  'macro avg': {'precision': 0.6883493001766544,\n",
        "   'recall': 0.8385336365995513,\n",
        "   'f1-score': 0.6963877387454518,\n",
        "   'support': 710},\n",
        "  'weighted avg': {'precision': 0.8949877652926663,\n",
        "   'recall': 0.7647887323943662,\n",
        "   'f1-score': 0.7962491300667155,\n",
        "   'support': 710}},\n",
        " {'False': {'precision': 0.990521327014218,\n",
        "   'recall': 0.6955074875207987,\n",
        "   'f1-score': 0.8172043010752689,\n",
        "   'support': 601},\n",
        "  'True': {'precision': 0.3645833333333333,\n",
        "   'recall': 0.963302752293578,\n",
        "   'f1-score': 0.5289672544080605,\n",
        "   'support': 109},\n",
        "  'accuracy': 0.7366197183098592,\n",
        "  'macro avg': {'precision': 0.6775523301737757,\n",
        "   'recall': 0.8294051199071883,\n",
        "   'f1-score': 0.6730857777416647,\n",
        "   'support': 710},\n",
        "  'weighted avg': {'precision': 0.8944266209420823,\n",
        "   'recall': 0.7366197183098592,\n",
        "   'f1-score': 0.7729538248967819,\n",
        "   'support': 710}},\n",
        " {'False': {'precision': 0.9924050632911392,\n",
        "   'recall': 0.6522462562396006,\n",
        "   'f1-score': 0.7871485943775101,\n",
        "   'support': 601},\n",
        "  'True': {'precision': 0.33650793650793653,\n",
        "   'recall': 0.9724770642201835,\n",
        "   'f1-score': 0.5,\n",
        "   'support': 109},\n",
        "  'accuracy': 0.7014084507042253,\n",
        "  'macro avg': {'precision': 0.6644564998995379,\n",
        "   'recall': 0.8123616602298921,\n",
        "   'f1-score': 0.643574297188755,\n",
        "   'support': 710},\n",
        "  'weighted avg': {'precision': 0.8917109973483659,\n",
        "   'recall': 0.7014084507042253,\n",
        "   'f1-score': 0.7430652186209628,\n",
        "   'support': 710}},\n",
        " {'False': {'precision': 0.9920844327176781,\n",
        "   'recall': 0.6256239600665557,\n",
        "   'f1-score': 0.7673469387755102,\n",
        "   'support': 601},\n",
        "  'True': {'precision': 0.3202416918429003,\n",
        "   'recall': 0.9724770642201835,\n",
        "   'f1-score': 0.4818181818181818,\n",
        "   'support': 109},\n",
        "  'accuracy': 0.6788732394366197,\n",
        "  'macro avg': {'precision': 0.6561630622802892,\n",
        "   'recall': 0.7990505121433696,\n",
        "   'f1-score': 0.624582560296846,\n",
        "   'support': 710},\n",
        "  'weighted avg': {'precision': 0.888942378132677,\n",
        "   'recall': 0.6788732394366197,\n",
        "   'f1-score': 0.7235122422848781,\n",
        "   'support': 710}}]\n",
        "\n",
        "r_pos_tuned = [m['True']['recall'] for m in metrics_tuned]\n",
        "r_neg_tuned = [m['False']['recall'] for m in metrics_tuned]\n",
        "f1_tuned = [m['macro avg']['f1-score'] for m in metrics_tuned]\n",
        "\n",
        "r_pos_aug = [m['True']['recall'] for m in metrics_tuned_aug]\n",
        "r_neg_aug = [m['False']['recall'] for m in metrics_tuned_aug]\n",
        "f1_aug = [m['macro avg']['f1-score'] for m in metrics_tuned_aug]\n",
        "\n",
        "r_pos_base = [m['True']['recall'] for m in metrics_base]\n",
        "r_neg_base = [m['False']['recall'] for m in metrics_base]\n",
        "f1_base = [m['macro avg']['f1-score']for m in metrics_base]"
      ]
    },
    {
      "cell_type": "code",
      "execution_count": null,
      "metadata": {
        "colab": {
          "base_uri": "https://localhost:8080/",
          "height": 499
        },
        "id": "R1Pady6zKEzR",
        "outputId": "6140e96b-567d-4887-fdaa-60bd316e8827"
      },
      "outputs": [
        {
          "output_type": "display_data",
          "data": {
            "text/plain": [
              "<Figure size 1152x576 with 1 Axes>"
            ],
            "image/png": "[encoded data removed]"
          },
          "metadata": {
            "needs_background": "light"
          }
        }
      ],
      "source": [
        "import matplotlib.pyplot  as plt\n",
        "import numpy as np\n",
        "\n",
        "\n",
        "x = range(1, 11)\n",
        "\n",
        "plt.plot(x, r_pos_tuned, '-bD',  label='ST + Scann fine-tuned, positive class recall')\n",
        "# plt.plot(x, r_neg_tuned, '-C0D',  label='ST + Scann fine-tuned, negative class recall')\n",
        "# plt.plot(x, f1_tuned, '-C2D',  label='ST + Scann fine-tuned, macro avg F1')\n",
        "\n",
        "plt.plot(x, r_pos_aug, '-C4o',  label='ST + Scann augmented, positive class recall')\n",
        "# plt.plot(x, r_neg_aug, '-C6o',  label='ST + Scann augmented, negative class recall')\n",
        "# plt.plot(x, f1_aug, '-mo',  label='ST + Scann augmented, macro avg class F1')\n",
        "\n",
        "plt.plot(x, r_pos_base, '-C1o',  label='ST + Scann baseline, positive class recall')\n",
        "# plt.plot(x, r_neg_base, '-C3o',  label='ST + Scann baseline, negative class recall')\n",
        "# plt.plot(x, f1_base, '-C8o',  label='ST + Scann baseline, macro avg class F1')\n",
        "\n",
        "plt.legend()\n",
        "plt.title('Metrics for Sentence Transformed + Scann, baseline, fine-tuned and data-augmented')\n",
        "# plotting a line plot after changing it's width and height\n",
        "fig = plt.gcf()\n",
        "fig.set_size_inches(16, 8)\n",
        "plt.show()\n",
        "\n"
      ]
    },
    {
      "cell_type": "code",
      "execution_count": null,
      "metadata": {
        "id": "qvoShMGJnsfx"
      },
      "outputs": [],
      "source": []
    }
  ],
  "metadata": {
    "colab": {
      "provenance": [],
      "mount_file_id": "1byHodzioMNWMsfzjjTqlOVwJqpr6ZOvp",
      "authorship_tag": "ABX9TyPWUo9v/G3rEUDUuOqm3sdI",
      "include_colab_link": true
    },
    "gpuClass": "premium",
    "kernelspec": {
      "display_name": "Python 3",
      "name": "python3"
    },
    "language_info": {
      "name": "python"
    }
  },
  "nbformat": 4,
  "nbformat_minor": 0
}